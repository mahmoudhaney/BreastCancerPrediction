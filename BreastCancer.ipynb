{
  "nbformat": 4,
  "nbformat_minor": 0,
  "metadata": {
    "colab": {
      "provenance": [],
      "authorship_tag": "ABX9TyMyHJWX9jEIJqndZWVQOTPk",
      "include_colab_link": true
    },
    "kernelspec": {
      "name": "python3",
      "display_name": "Python 3"
    },
    "language_info": {
      "name": "python"
    }
  },
  "cells": [
    {
      "cell_type": "markdown",
      "metadata": {
        "id": "view-in-github",
        "colab_type": "text"
      },
      "source": [
        "<a href=\"https://colab.research.google.com/github/mahmoudhaney/BreastCancerPrediction/blob/main/BreastCancer.ipynb\" target=\"_parent\"><img src=\"https://colab.research.google.com/assets/colab-badge.svg\" alt=\"Open In Colab\"/></a>"
      ]
    },
    {
      "cell_type": "markdown",
      "source": [
        "# **Importing Libraries**"
      ],
      "metadata": {
        "id": "x50SnDGrQnmH"
      }
    },
    {
      "cell_type": "code",
      "source": [
        "import numpy as np\n",
        "import pandas as pd\n",
        "import sklearn.datasets\n",
        "from sklearn.model_selection import train_test_split\n",
        "from sklearn.preprocessing import StandardScaler\n",
        "from sklearn.linear_model import LogisticRegression\n",
        "from sklearn.metrics import accuracy_score\n",
        "from sklearn.svm import SVC\n",
        "import matplotlib.pyplot as plt\n",
        "from sklearn.datasets import make_classification\n",
        "from sklearn.metrics import plot_confusion_matrix"
      ],
      "metadata": {
        "id": "CKSAK0mwRFGh"
      },
      "execution_count": 23,
      "outputs": []
    },
    {
      "cell_type": "markdown",
      "source": [
        "# **Preparing & Preprocessing Dataset**"
      ],
      "metadata": {
        "id": "GujobGlTRpIi"
      }
    },
    {
      "cell_type": "markdown",
      "source": [
        "### Data Collection & Analysis"
      ],
      "metadata": {
        "id": "lXv0gG-o3ID0"
      }
    },
    {
      "cell_type": "code",
      "source": [
        "breast_cancer = pd.read_csv('data.csv')\n",
        "#load data from sklearn\n",
        "breast_cancer = sklearn.datasets.load_breast_cancer()"
      ],
      "metadata": {
        "id": "dielUfNvUd_X"
      },
      "execution_count": 5,
      "outputs": []
    },
    {
      "cell_type": "code",
      "source": [
        "#load data to panads dataframe\n",
        "data_frame=pd.DataFrame(breast_cancer.data,columns=breast_cancer.feature_names)"
      ],
      "metadata": {
        "id": "_eYZ9ai8050i"
      },
      "execution_count": 6,
      "outputs": []
    },
    {
      "cell_type": "code",
      "source": [
        "#print first 5 rows in data table\n",
        "data_frame.head()"
      ],
      "metadata": {
        "colab": {
          "base_uri": "https://localhost:8080/",
          "height": 334
        },
        "id": "Tz5T6Z571QjU",
        "outputId": "3e6bf5d3-9d83-42a0-fb3f-b396475f7e29"
      },
      "execution_count": 7,
      "outputs": [
        {
          "output_type": "execute_result",
          "data": {
            "text/plain": [
              "   mean radius  mean texture  mean perimeter  mean area  mean smoothness  \\\n",
              "0        17.99         10.38          122.80     1001.0          0.11840   \n",
              "1        20.57         17.77          132.90     1326.0          0.08474   \n",
              "2        19.69         21.25          130.00     1203.0          0.10960   \n",
              "3        11.42         20.38           77.58      386.1          0.14250   \n",
              "4        20.29         14.34          135.10     1297.0          0.10030   \n",
              "\n",
              "   mean compactness  mean concavity  mean concave points  mean symmetry  \\\n",
              "0           0.27760          0.3001              0.14710         0.2419   \n",
              "1           0.07864          0.0869              0.07017         0.1812   \n",
              "2           0.15990          0.1974              0.12790         0.2069   \n",
              "3           0.28390          0.2414              0.10520         0.2597   \n",
              "4           0.13280          0.1980              0.10430         0.1809   \n",
              "\n",
              "   mean fractal dimension  ...  worst radius  worst texture  worst perimeter  \\\n",
              "0                 0.07871  ...         25.38          17.33           184.60   \n",
              "1                 0.05667  ...         24.99          23.41           158.80   \n",
              "2                 0.05999  ...         23.57          25.53           152.50   \n",
              "3                 0.09744  ...         14.91          26.50            98.87   \n",
              "4                 0.05883  ...         22.54          16.67           152.20   \n",
              "\n",
              "   worst area  worst smoothness  worst compactness  worst concavity  \\\n",
              "0      2019.0            0.1622             0.6656           0.7119   \n",
              "1      1956.0            0.1238             0.1866           0.2416   \n",
              "2      1709.0            0.1444             0.4245           0.4504   \n",
              "3       567.7            0.2098             0.8663           0.6869   \n",
              "4      1575.0            0.1374             0.2050           0.4000   \n",
              "\n",
              "   worst concave points  worst symmetry  worst fractal dimension  \n",
              "0                0.2654          0.4601                  0.11890  \n",
              "1                0.1860          0.2750                  0.08902  \n",
              "2                0.2430          0.3613                  0.08758  \n",
              "3                0.2575          0.6638                  0.17300  \n",
              "4                0.1625          0.2364                  0.07678  \n",
              "\n",
              "[5 rows x 30 columns]"
            ],
            "text/html": [
              "\n",
              "  <div id=\"df-d2e712cf-ac70-4490-80a9-8df5972435e4\">\n",
              "    <div class=\"colab-df-container\">\n",
              "      <div>\n",
              "<style scoped>\n",
              "    .dataframe tbody tr th:only-of-type {\n",
              "        vertical-align: middle;\n",
              "    }\n",
              "\n",
              "    .dataframe tbody tr th {\n",
              "        vertical-align: top;\n",
              "    }\n",
              "\n",
              "    .dataframe thead th {\n",
              "        text-align: right;\n",
              "    }\n",
              "</style>\n",
              "<table border=\"1\" class=\"dataframe\">\n",
              "  <thead>\n",
              "    <tr style=\"text-align: right;\">\n",
              "      <th></th>\n",
              "      <th>mean radius</th>\n",
              "      <th>mean texture</th>\n",
              "      <th>mean perimeter</th>\n",
              "      <th>mean area</th>\n",
              "      <th>mean smoothness</th>\n",
              "      <th>mean compactness</th>\n",
              "      <th>mean concavity</th>\n",
              "      <th>mean concave points</th>\n",
              "      <th>mean symmetry</th>\n",
              "      <th>mean fractal dimension</th>\n",
              "      <th>...</th>\n",
              "      <th>worst radius</th>\n",
              "      <th>worst texture</th>\n",
              "      <th>worst perimeter</th>\n",
              "      <th>worst area</th>\n",
              "      <th>worst smoothness</th>\n",
              "      <th>worst compactness</th>\n",
              "      <th>worst concavity</th>\n",
              "      <th>worst concave points</th>\n",
              "      <th>worst symmetry</th>\n",
              "      <th>worst fractal dimension</th>\n",
              "    </tr>\n",
              "  </thead>\n",
              "  <tbody>\n",
              "    <tr>\n",
              "      <th>0</th>\n",
              "      <td>17.99</td>\n",
              "      <td>10.38</td>\n",
              "      <td>122.80</td>\n",
              "      <td>1001.0</td>\n",
              "      <td>0.11840</td>\n",
              "      <td>0.27760</td>\n",
              "      <td>0.3001</td>\n",
              "      <td>0.14710</td>\n",
              "      <td>0.2419</td>\n",
              "      <td>0.07871</td>\n",
              "      <td>...</td>\n",
              "      <td>25.38</td>\n",
              "      <td>17.33</td>\n",
              "      <td>184.60</td>\n",
              "      <td>2019.0</td>\n",
              "      <td>0.1622</td>\n",
              "      <td>0.6656</td>\n",
              "      <td>0.7119</td>\n",
              "      <td>0.2654</td>\n",
              "      <td>0.4601</td>\n",
              "      <td>0.11890</td>\n",
              "    </tr>\n",
              "    <tr>\n",
              "      <th>1</th>\n",
              "      <td>20.57</td>\n",
              "      <td>17.77</td>\n",
              "      <td>132.90</td>\n",
              "      <td>1326.0</td>\n",
              "      <td>0.08474</td>\n",
              "      <td>0.07864</td>\n",
              "      <td>0.0869</td>\n",
              "      <td>0.07017</td>\n",
              "      <td>0.1812</td>\n",
              "      <td>0.05667</td>\n",
              "      <td>...</td>\n",
              "      <td>24.99</td>\n",
              "      <td>23.41</td>\n",
              "      <td>158.80</td>\n",
              "      <td>1956.0</td>\n",
              "      <td>0.1238</td>\n",
              "      <td>0.1866</td>\n",
              "      <td>0.2416</td>\n",
              "      <td>0.1860</td>\n",
              "      <td>0.2750</td>\n",
              "      <td>0.08902</td>\n",
              "    </tr>\n",
              "    <tr>\n",
              "      <th>2</th>\n",
              "      <td>19.69</td>\n",
              "      <td>21.25</td>\n",
              "      <td>130.00</td>\n",
              "      <td>1203.0</td>\n",
              "      <td>0.10960</td>\n",
              "      <td>0.15990</td>\n",
              "      <td>0.1974</td>\n",
              "      <td>0.12790</td>\n",
              "      <td>0.2069</td>\n",
              "      <td>0.05999</td>\n",
              "      <td>...</td>\n",
              "      <td>23.57</td>\n",
              "      <td>25.53</td>\n",
              "      <td>152.50</td>\n",
              "      <td>1709.0</td>\n",
              "      <td>0.1444</td>\n",
              "      <td>0.4245</td>\n",
              "      <td>0.4504</td>\n",
              "      <td>0.2430</td>\n",
              "      <td>0.3613</td>\n",
              "      <td>0.08758</td>\n",
              "    </tr>\n",
              "    <tr>\n",
              "      <th>3</th>\n",
              "      <td>11.42</td>\n",
              "      <td>20.38</td>\n",
              "      <td>77.58</td>\n",
              "      <td>386.1</td>\n",
              "      <td>0.14250</td>\n",
              "      <td>0.28390</td>\n",
              "      <td>0.2414</td>\n",
              "      <td>0.10520</td>\n",
              "      <td>0.2597</td>\n",
              "      <td>0.09744</td>\n",
              "      <td>...</td>\n",
              "      <td>14.91</td>\n",
              "      <td>26.50</td>\n",
              "      <td>98.87</td>\n",
              "      <td>567.7</td>\n",
              "      <td>0.2098</td>\n",
              "      <td>0.8663</td>\n",
              "      <td>0.6869</td>\n",
              "      <td>0.2575</td>\n",
              "      <td>0.6638</td>\n",
              "      <td>0.17300</td>\n",
              "    </tr>\n",
              "    <tr>\n",
              "      <th>4</th>\n",
              "      <td>20.29</td>\n",
              "      <td>14.34</td>\n",
              "      <td>135.10</td>\n",
              "      <td>1297.0</td>\n",
              "      <td>0.10030</td>\n",
              "      <td>0.13280</td>\n",
              "      <td>0.1980</td>\n",
              "      <td>0.10430</td>\n",
              "      <td>0.1809</td>\n",
              "      <td>0.05883</td>\n",
              "      <td>...</td>\n",
              "      <td>22.54</td>\n",
              "      <td>16.67</td>\n",
              "      <td>152.20</td>\n",
              "      <td>1575.0</td>\n",
              "      <td>0.1374</td>\n",
              "      <td>0.2050</td>\n",
              "      <td>0.4000</td>\n",
              "      <td>0.1625</td>\n",
              "      <td>0.2364</td>\n",
              "      <td>0.07678</td>\n",
              "    </tr>\n",
              "  </tbody>\n",
              "</table>\n",
              "<p>5 rows × 30 columns</p>\n",
              "</div>\n",
              "      <button class=\"colab-df-convert\" onclick=\"convertToInteractive('df-d2e712cf-ac70-4490-80a9-8df5972435e4')\"\n",
              "              title=\"Convert this dataframe to an interactive table.\"\n",
              "              style=\"display:none;\">\n",
              "        \n",
              "  <svg xmlns=\"http://www.w3.org/2000/svg\" height=\"24px\"viewBox=\"0 0 24 24\"\n",
              "       width=\"24px\">\n",
              "    <path d=\"M0 0h24v24H0V0z\" fill=\"none\"/>\n",
              "    <path d=\"M18.56 5.44l.94 2.06.94-2.06 2.06-.94-2.06-.94-.94-2.06-.94 2.06-2.06.94zm-11 1L8.5 8.5l.94-2.06 2.06-.94-2.06-.94L8.5 2.5l-.94 2.06-2.06.94zm10 10l.94 2.06.94-2.06 2.06-.94-2.06-.94-.94-2.06-.94 2.06-2.06.94z\"/><path d=\"M17.41 7.96l-1.37-1.37c-.4-.4-.92-.59-1.43-.59-.52 0-1.04.2-1.43.59L10.3 9.45l-7.72 7.72c-.78.78-.78 2.05 0 2.83L4 21.41c.39.39.9.59 1.41.59.51 0 1.02-.2 1.41-.59l7.78-7.78 2.81-2.81c.8-.78.8-2.07 0-2.86zM5.41 20L4 18.59l7.72-7.72 1.47 1.35L5.41 20z\"/>\n",
              "  </svg>\n",
              "      </button>\n",
              "      \n",
              "  <style>\n",
              "    .colab-df-container {\n",
              "      display:flex;\n",
              "      flex-wrap:wrap;\n",
              "      gap: 12px;\n",
              "    }\n",
              "\n",
              "    .colab-df-convert {\n",
              "      background-color: #E8F0FE;\n",
              "      border: none;\n",
              "      border-radius: 50%;\n",
              "      cursor: pointer;\n",
              "      display: none;\n",
              "      fill: #1967D2;\n",
              "      height: 32px;\n",
              "      padding: 0 0 0 0;\n",
              "      width: 32px;\n",
              "    }\n",
              "\n",
              "    .colab-df-convert:hover {\n",
              "      background-color: #E2EBFA;\n",
              "      box-shadow: 0px 1px 2px rgba(60, 64, 67, 0.3), 0px 1px 3px 1px rgba(60, 64, 67, 0.15);\n",
              "      fill: #174EA6;\n",
              "    }\n",
              "\n",
              "    [theme=dark] .colab-df-convert {\n",
              "      background-color: #3B4455;\n",
              "      fill: #D2E3FC;\n",
              "    }\n",
              "\n",
              "    [theme=dark] .colab-df-convert:hover {\n",
              "      background-color: #434B5C;\n",
              "      box-shadow: 0px 1px 3px 1px rgba(0, 0, 0, 0.15);\n",
              "      filter: drop-shadow(0px 1px 2px rgba(0, 0, 0, 0.3));\n",
              "      fill: #FFFFFF;\n",
              "    }\n",
              "  </style>\n",
              "\n",
              "      <script>\n",
              "        const buttonEl =\n",
              "          document.querySelector('#df-d2e712cf-ac70-4490-80a9-8df5972435e4 button.colab-df-convert');\n",
              "        buttonEl.style.display =\n",
              "          google.colab.kernel.accessAllowed ? 'block' : 'none';\n",
              "\n",
              "        async function convertToInteractive(key) {\n",
              "          const element = document.querySelector('#df-d2e712cf-ac70-4490-80a9-8df5972435e4');\n",
              "          const dataTable =\n",
              "            await google.colab.kernel.invokeFunction('convertToInteractive',\n",
              "                                                     [key], {});\n",
              "          if (!dataTable) return;\n",
              "\n",
              "          const docLinkHtml = 'Like what you see? Visit the ' +\n",
              "            '<a target=\"_blank\" href=https://colab.research.google.com/notebooks/data_table.ipynb>data table notebook</a>'\n",
              "            + ' to learn more about interactive tables.';\n",
              "          element.innerHTML = '';\n",
              "          dataTable['output_type'] = 'display_data';\n",
              "          await google.colab.output.renderOutput(dataTable, element);\n",
              "          const docLink = document.createElement('div');\n",
              "          docLink.innerHTML = docLinkHtml;\n",
              "          element.appendChild(docLink);\n",
              "        }\n",
              "      </script>\n",
              "    </div>\n",
              "  </div>\n",
              "  "
            ]
          },
          "metadata": {},
          "execution_count": 7
        }
      ]
    },
    {
      "cell_type": "code",
      "source": [
        "data_frame.info()"
      ],
      "metadata": {
        "colab": {
          "base_uri": "https://localhost:8080/"
        },
        "id": "cW12lseW1Rc-",
        "outputId": "dc7256a0-2c6a-41cf-8b72-97877c9743ee"
      },
      "execution_count": 8,
      "outputs": [
        {
          "output_type": "stream",
          "name": "stdout",
          "text": [
            "<class 'pandas.core.frame.DataFrame'>\n",
            "RangeIndex: 569 entries, 0 to 568\n",
            "Data columns (total 30 columns):\n",
            " #   Column                   Non-Null Count  Dtype  \n",
            "---  ------                   --------------  -----  \n",
            " 0   mean radius              569 non-null    float64\n",
            " 1   mean texture             569 non-null    float64\n",
            " 2   mean perimeter           569 non-null    float64\n",
            " 3   mean area                569 non-null    float64\n",
            " 4   mean smoothness          569 non-null    float64\n",
            " 5   mean compactness         569 non-null    float64\n",
            " 6   mean concavity           569 non-null    float64\n",
            " 7   mean concave points      569 non-null    float64\n",
            " 8   mean symmetry            569 non-null    float64\n",
            " 9   mean fractal dimension   569 non-null    float64\n",
            " 10  radius error             569 non-null    float64\n",
            " 11  texture error            569 non-null    float64\n",
            " 12  perimeter error          569 non-null    float64\n",
            " 13  area error               569 non-null    float64\n",
            " 14  smoothness error         569 non-null    float64\n",
            " 15  compactness error        569 non-null    float64\n",
            " 16  concavity error          569 non-null    float64\n",
            " 17  concave points error     569 non-null    float64\n",
            " 18  symmetry error           569 non-null    float64\n",
            " 19  fractal dimension error  569 non-null    float64\n",
            " 20  worst radius             569 non-null    float64\n",
            " 21  worst texture            569 non-null    float64\n",
            " 22  worst perimeter          569 non-null    float64\n",
            " 23  worst area               569 non-null    float64\n",
            " 24  worst smoothness         569 non-null    float64\n",
            " 25  worst compactness        569 non-null    float64\n",
            " 26  worst concavity          569 non-null    float64\n",
            " 27  worst concave points     569 non-null    float64\n",
            " 28  worst symmetry           569 non-null    float64\n",
            " 29  worst fractal dimension  569 non-null    float64\n",
            "dtypes: float64(30)\n",
            "memory usage: 133.5 KB\n"
          ]
        }
      ]
    },
    {
      "cell_type": "code",
      "source": [
        "# Show some information about data\n",
        "data_frame.describe()"
      ],
      "metadata": {
        "colab": {
          "base_uri": "https://localhost:8080/",
          "height": 428
        },
        "id": "RKBiYlPF1WMC",
        "outputId": "7c1a3012-aa0d-4b1a-b02d-be60ea9706e5"
      },
      "execution_count": 9,
      "outputs": [
        {
          "output_type": "execute_result",
          "data": {
            "text/plain": [
              "       mean radius  mean texture  mean perimeter    mean area  \\\n",
              "count   569.000000    569.000000      569.000000   569.000000   \n",
              "mean     14.127292     19.289649       91.969033   654.889104   \n",
              "std       3.524049      4.301036       24.298981   351.914129   \n",
              "min       6.981000      9.710000       43.790000   143.500000   \n",
              "25%      11.700000     16.170000       75.170000   420.300000   \n",
              "50%      13.370000     18.840000       86.240000   551.100000   \n",
              "75%      15.780000     21.800000      104.100000   782.700000   \n",
              "max      28.110000     39.280000      188.500000  2501.000000   \n",
              "\n",
              "       mean smoothness  mean compactness  mean concavity  mean concave points  \\\n",
              "count       569.000000        569.000000      569.000000           569.000000   \n",
              "mean          0.096360          0.104341        0.088799             0.048919   \n",
              "std           0.014064          0.052813        0.079720             0.038803   \n",
              "min           0.052630          0.019380        0.000000             0.000000   \n",
              "25%           0.086370          0.064920        0.029560             0.020310   \n",
              "50%           0.095870          0.092630        0.061540             0.033500   \n",
              "75%           0.105300          0.130400        0.130700             0.074000   \n",
              "max           0.163400          0.345400        0.426800             0.201200   \n",
              "\n",
              "       mean symmetry  mean fractal dimension  ...  worst radius  \\\n",
              "count     569.000000              569.000000  ...    569.000000   \n",
              "mean        0.181162                0.062798  ...     16.269190   \n",
              "std         0.027414                0.007060  ...      4.833242   \n",
              "min         0.106000                0.049960  ...      7.930000   \n",
              "25%         0.161900                0.057700  ...     13.010000   \n",
              "50%         0.179200                0.061540  ...     14.970000   \n",
              "75%         0.195700                0.066120  ...     18.790000   \n",
              "max         0.304000                0.097440  ...     36.040000   \n",
              "\n",
              "       worst texture  worst perimeter   worst area  worst smoothness  \\\n",
              "count     569.000000       569.000000   569.000000        569.000000   \n",
              "mean       25.677223       107.261213   880.583128          0.132369   \n",
              "std         6.146258        33.602542   569.356993          0.022832   \n",
              "min        12.020000        50.410000   185.200000          0.071170   \n",
              "25%        21.080000        84.110000   515.300000          0.116600   \n",
              "50%        25.410000        97.660000   686.500000          0.131300   \n",
              "75%        29.720000       125.400000  1084.000000          0.146000   \n",
              "max        49.540000       251.200000  4254.000000          0.222600   \n",
              "\n",
              "       worst compactness  worst concavity  worst concave points  \\\n",
              "count         569.000000       569.000000            569.000000   \n",
              "mean            0.254265         0.272188              0.114606   \n",
              "std             0.157336         0.208624              0.065732   \n",
              "min             0.027290         0.000000              0.000000   \n",
              "25%             0.147200         0.114500              0.064930   \n",
              "50%             0.211900         0.226700              0.099930   \n",
              "75%             0.339100         0.382900              0.161400   \n",
              "max             1.058000         1.252000              0.291000   \n",
              "\n",
              "       worst symmetry  worst fractal dimension  \n",
              "count      569.000000               569.000000  \n",
              "mean         0.290076                 0.083946  \n",
              "std          0.061867                 0.018061  \n",
              "min          0.156500                 0.055040  \n",
              "25%          0.250400                 0.071460  \n",
              "50%          0.282200                 0.080040  \n",
              "75%          0.317900                 0.092080  \n",
              "max          0.663800                 0.207500  \n",
              "\n",
              "[8 rows x 30 columns]"
            ],
            "text/html": [
              "\n",
              "  <div id=\"df-cb45e6df-4595-4d8d-a8bb-e76ba655f34c\">\n",
              "    <div class=\"colab-df-container\">\n",
              "      <div>\n",
              "<style scoped>\n",
              "    .dataframe tbody tr th:only-of-type {\n",
              "        vertical-align: middle;\n",
              "    }\n",
              "\n",
              "    .dataframe tbody tr th {\n",
              "        vertical-align: top;\n",
              "    }\n",
              "\n",
              "    .dataframe thead th {\n",
              "        text-align: right;\n",
              "    }\n",
              "</style>\n",
              "<table border=\"1\" class=\"dataframe\">\n",
              "  <thead>\n",
              "    <tr style=\"text-align: right;\">\n",
              "      <th></th>\n",
              "      <th>mean radius</th>\n",
              "      <th>mean texture</th>\n",
              "      <th>mean perimeter</th>\n",
              "      <th>mean area</th>\n",
              "      <th>mean smoothness</th>\n",
              "      <th>mean compactness</th>\n",
              "      <th>mean concavity</th>\n",
              "      <th>mean concave points</th>\n",
              "      <th>mean symmetry</th>\n",
              "      <th>mean fractal dimension</th>\n",
              "      <th>...</th>\n",
              "      <th>worst radius</th>\n",
              "      <th>worst texture</th>\n",
              "      <th>worst perimeter</th>\n",
              "      <th>worst area</th>\n",
              "      <th>worst smoothness</th>\n",
              "      <th>worst compactness</th>\n",
              "      <th>worst concavity</th>\n",
              "      <th>worst concave points</th>\n",
              "      <th>worst symmetry</th>\n",
              "      <th>worst fractal dimension</th>\n",
              "    </tr>\n",
              "  </thead>\n",
              "  <tbody>\n",
              "    <tr>\n",
              "      <th>count</th>\n",
              "      <td>569.000000</td>\n",
              "      <td>569.000000</td>\n",
              "      <td>569.000000</td>\n",
              "      <td>569.000000</td>\n",
              "      <td>569.000000</td>\n",
              "      <td>569.000000</td>\n",
              "      <td>569.000000</td>\n",
              "      <td>569.000000</td>\n",
              "      <td>569.000000</td>\n",
              "      <td>569.000000</td>\n",
              "      <td>...</td>\n",
              "      <td>569.000000</td>\n",
              "      <td>569.000000</td>\n",
              "      <td>569.000000</td>\n",
              "      <td>569.000000</td>\n",
              "      <td>569.000000</td>\n",
              "      <td>569.000000</td>\n",
              "      <td>569.000000</td>\n",
              "      <td>569.000000</td>\n",
              "      <td>569.000000</td>\n",
              "      <td>569.000000</td>\n",
              "    </tr>\n",
              "    <tr>\n",
              "      <th>mean</th>\n",
              "      <td>14.127292</td>\n",
              "      <td>19.289649</td>\n",
              "      <td>91.969033</td>\n",
              "      <td>654.889104</td>\n",
              "      <td>0.096360</td>\n",
              "      <td>0.104341</td>\n",
              "      <td>0.088799</td>\n",
              "      <td>0.048919</td>\n",
              "      <td>0.181162</td>\n",
              "      <td>0.062798</td>\n",
              "      <td>...</td>\n",
              "      <td>16.269190</td>\n",
              "      <td>25.677223</td>\n",
              "      <td>107.261213</td>\n",
              "      <td>880.583128</td>\n",
              "      <td>0.132369</td>\n",
              "      <td>0.254265</td>\n",
              "      <td>0.272188</td>\n",
              "      <td>0.114606</td>\n",
              "      <td>0.290076</td>\n",
              "      <td>0.083946</td>\n",
              "    </tr>\n",
              "    <tr>\n",
              "      <th>std</th>\n",
              "      <td>3.524049</td>\n",
              "      <td>4.301036</td>\n",
              "      <td>24.298981</td>\n",
              "      <td>351.914129</td>\n",
              "      <td>0.014064</td>\n",
              "      <td>0.052813</td>\n",
              "      <td>0.079720</td>\n",
              "      <td>0.038803</td>\n",
              "      <td>0.027414</td>\n",
              "      <td>0.007060</td>\n",
              "      <td>...</td>\n",
              "      <td>4.833242</td>\n",
              "      <td>6.146258</td>\n",
              "      <td>33.602542</td>\n",
              "      <td>569.356993</td>\n",
              "      <td>0.022832</td>\n",
              "      <td>0.157336</td>\n",
              "      <td>0.208624</td>\n",
              "      <td>0.065732</td>\n",
              "      <td>0.061867</td>\n",
              "      <td>0.018061</td>\n",
              "    </tr>\n",
              "    <tr>\n",
              "      <th>min</th>\n",
              "      <td>6.981000</td>\n",
              "      <td>9.710000</td>\n",
              "      <td>43.790000</td>\n",
              "      <td>143.500000</td>\n",
              "      <td>0.052630</td>\n",
              "      <td>0.019380</td>\n",
              "      <td>0.000000</td>\n",
              "      <td>0.000000</td>\n",
              "      <td>0.106000</td>\n",
              "      <td>0.049960</td>\n",
              "      <td>...</td>\n",
              "      <td>7.930000</td>\n",
              "      <td>12.020000</td>\n",
              "      <td>50.410000</td>\n",
              "      <td>185.200000</td>\n",
              "      <td>0.071170</td>\n",
              "      <td>0.027290</td>\n",
              "      <td>0.000000</td>\n",
              "      <td>0.000000</td>\n",
              "      <td>0.156500</td>\n",
              "      <td>0.055040</td>\n",
              "    </tr>\n",
              "    <tr>\n",
              "      <th>25%</th>\n",
              "      <td>11.700000</td>\n",
              "      <td>16.170000</td>\n",
              "      <td>75.170000</td>\n",
              "      <td>420.300000</td>\n",
              "      <td>0.086370</td>\n",
              "      <td>0.064920</td>\n",
              "      <td>0.029560</td>\n",
              "      <td>0.020310</td>\n",
              "      <td>0.161900</td>\n",
              "      <td>0.057700</td>\n",
              "      <td>...</td>\n",
              "      <td>13.010000</td>\n",
              "      <td>21.080000</td>\n",
              "      <td>84.110000</td>\n",
              "      <td>515.300000</td>\n",
              "      <td>0.116600</td>\n",
              "      <td>0.147200</td>\n",
              "      <td>0.114500</td>\n",
              "      <td>0.064930</td>\n",
              "      <td>0.250400</td>\n",
              "      <td>0.071460</td>\n",
              "    </tr>\n",
              "    <tr>\n",
              "      <th>50%</th>\n",
              "      <td>13.370000</td>\n",
              "      <td>18.840000</td>\n",
              "      <td>86.240000</td>\n",
              "      <td>551.100000</td>\n",
              "      <td>0.095870</td>\n",
              "      <td>0.092630</td>\n",
              "      <td>0.061540</td>\n",
              "      <td>0.033500</td>\n",
              "      <td>0.179200</td>\n",
              "      <td>0.061540</td>\n",
              "      <td>...</td>\n",
              "      <td>14.970000</td>\n",
              "      <td>25.410000</td>\n",
              "      <td>97.660000</td>\n",
              "      <td>686.500000</td>\n",
              "      <td>0.131300</td>\n",
              "      <td>0.211900</td>\n",
              "      <td>0.226700</td>\n",
              "      <td>0.099930</td>\n",
              "      <td>0.282200</td>\n",
              "      <td>0.080040</td>\n",
              "    </tr>\n",
              "    <tr>\n",
              "      <th>75%</th>\n",
              "      <td>15.780000</td>\n",
              "      <td>21.800000</td>\n",
              "      <td>104.100000</td>\n",
              "      <td>782.700000</td>\n",
              "      <td>0.105300</td>\n",
              "      <td>0.130400</td>\n",
              "      <td>0.130700</td>\n",
              "      <td>0.074000</td>\n",
              "      <td>0.195700</td>\n",
              "      <td>0.066120</td>\n",
              "      <td>...</td>\n",
              "      <td>18.790000</td>\n",
              "      <td>29.720000</td>\n",
              "      <td>125.400000</td>\n",
              "      <td>1084.000000</td>\n",
              "      <td>0.146000</td>\n",
              "      <td>0.339100</td>\n",
              "      <td>0.382900</td>\n",
              "      <td>0.161400</td>\n",
              "      <td>0.317900</td>\n",
              "      <td>0.092080</td>\n",
              "    </tr>\n",
              "    <tr>\n",
              "      <th>max</th>\n",
              "      <td>28.110000</td>\n",
              "      <td>39.280000</td>\n",
              "      <td>188.500000</td>\n",
              "      <td>2501.000000</td>\n",
              "      <td>0.163400</td>\n",
              "      <td>0.345400</td>\n",
              "      <td>0.426800</td>\n",
              "      <td>0.201200</td>\n",
              "      <td>0.304000</td>\n",
              "      <td>0.097440</td>\n",
              "      <td>...</td>\n",
              "      <td>36.040000</td>\n",
              "      <td>49.540000</td>\n",
              "      <td>251.200000</td>\n",
              "      <td>4254.000000</td>\n",
              "      <td>0.222600</td>\n",
              "      <td>1.058000</td>\n",
              "      <td>1.252000</td>\n",
              "      <td>0.291000</td>\n",
              "      <td>0.663800</td>\n",
              "      <td>0.207500</td>\n",
              "    </tr>\n",
              "  </tbody>\n",
              "</table>\n",
              "<p>8 rows × 30 columns</p>\n",
              "</div>\n",
              "      <button class=\"colab-df-convert\" onclick=\"convertToInteractive('df-cb45e6df-4595-4d8d-a8bb-e76ba655f34c')\"\n",
              "              title=\"Convert this dataframe to an interactive table.\"\n",
              "              style=\"display:none;\">\n",
              "        \n",
              "  <svg xmlns=\"http://www.w3.org/2000/svg\" height=\"24px\"viewBox=\"0 0 24 24\"\n",
              "       width=\"24px\">\n",
              "    <path d=\"M0 0h24v24H0V0z\" fill=\"none\"/>\n",
              "    <path d=\"M18.56 5.44l.94 2.06.94-2.06 2.06-.94-2.06-.94-.94-2.06-.94 2.06-2.06.94zm-11 1L8.5 8.5l.94-2.06 2.06-.94-2.06-.94L8.5 2.5l-.94 2.06-2.06.94zm10 10l.94 2.06.94-2.06 2.06-.94-2.06-.94-.94-2.06-.94 2.06-2.06.94z\"/><path d=\"M17.41 7.96l-1.37-1.37c-.4-.4-.92-.59-1.43-.59-.52 0-1.04.2-1.43.59L10.3 9.45l-7.72 7.72c-.78.78-.78 2.05 0 2.83L4 21.41c.39.39.9.59 1.41.59.51 0 1.02-.2 1.41-.59l7.78-7.78 2.81-2.81c.8-.78.8-2.07 0-2.86zM5.41 20L4 18.59l7.72-7.72 1.47 1.35L5.41 20z\"/>\n",
              "  </svg>\n",
              "      </button>\n",
              "      \n",
              "  <style>\n",
              "    .colab-df-container {\n",
              "      display:flex;\n",
              "      flex-wrap:wrap;\n",
              "      gap: 12px;\n",
              "    }\n",
              "\n",
              "    .colab-df-convert {\n",
              "      background-color: #E8F0FE;\n",
              "      border: none;\n",
              "      border-radius: 50%;\n",
              "      cursor: pointer;\n",
              "      display: none;\n",
              "      fill: #1967D2;\n",
              "      height: 32px;\n",
              "      padding: 0 0 0 0;\n",
              "      width: 32px;\n",
              "    }\n",
              "\n",
              "    .colab-df-convert:hover {\n",
              "      background-color: #E2EBFA;\n",
              "      box-shadow: 0px 1px 2px rgba(60, 64, 67, 0.3), 0px 1px 3px 1px rgba(60, 64, 67, 0.15);\n",
              "      fill: #174EA6;\n",
              "    }\n",
              "\n",
              "    [theme=dark] .colab-df-convert {\n",
              "      background-color: #3B4455;\n",
              "      fill: #D2E3FC;\n",
              "    }\n",
              "\n",
              "    [theme=dark] .colab-df-convert:hover {\n",
              "      background-color: #434B5C;\n",
              "      box-shadow: 0px 1px 3px 1px rgba(0, 0, 0, 0.15);\n",
              "      filter: drop-shadow(0px 1px 2px rgba(0, 0, 0, 0.3));\n",
              "      fill: #FFFFFF;\n",
              "    }\n",
              "  </style>\n",
              "\n",
              "      <script>\n",
              "        const buttonEl =\n",
              "          document.querySelector('#df-cb45e6df-4595-4d8d-a8bb-e76ba655f34c button.colab-df-convert');\n",
              "        buttonEl.style.display =\n",
              "          google.colab.kernel.accessAllowed ? 'block' : 'none';\n",
              "\n",
              "        async function convertToInteractive(key) {\n",
              "          const element = document.querySelector('#df-cb45e6df-4595-4d8d-a8bb-e76ba655f34c');\n",
              "          const dataTable =\n",
              "            await google.colab.kernel.invokeFunction('convertToInteractive',\n",
              "                                                     [key], {});\n",
              "          if (!dataTable) return;\n",
              "\n",
              "          const docLinkHtml = 'Like what you see? Visit the ' +\n",
              "            '<a target=\"_blank\" href=https://colab.research.google.com/notebooks/data_table.ipynb>data table notebook</a>'\n",
              "            + ' to learn more about interactive tables.';\n",
              "          element.innerHTML = '';\n",
              "          dataTable['output_type'] = 'display_data';\n",
              "          await google.colab.output.renderOutput(dataTable, element);\n",
              "          const docLink = document.createElement('div');\n",
              "          docLink.innerHTML = docLinkHtml;\n",
              "          element.appendChild(docLink);\n",
              "        }\n",
              "      </script>\n",
              "    </div>\n",
              "  </div>\n",
              "  "
            ]
          },
          "metadata": {},
          "execution_count": 9
        }
      ]
    },
    {
      "cell_type": "code",
      "source": [
        "#make the label column equal the target column and add it to dataframe\n",
        "data_frame['label']=breast_cancer.target"
      ],
      "metadata": {
        "id": "VcgzqcwL1iCK"
      },
      "execution_count": 11,
      "outputs": []
    },
    {
      "cell_type": "code",
      "source": [
        "#check for missing values\n",
        "data_frame.isnull().sum()"
      ],
      "metadata": {
        "colab": {
          "base_uri": "https://localhost:8080/"
        },
        "id": "CYRWIpxp1pN4",
        "outputId": "3bcf9ee4-fb78-4e59-8ff4-409ef1706eba"
      },
      "execution_count": 13,
      "outputs": [
        {
          "output_type": "execute_result",
          "data": {
            "text/plain": [
              "mean radius                0\n",
              "mean texture               0\n",
              "mean perimeter             0\n",
              "mean area                  0\n",
              "mean smoothness            0\n",
              "mean compactness           0\n",
              "mean concavity             0\n",
              "mean concave points        0\n",
              "mean symmetry              0\n",
              "mean fractal dimension     0\n",
              "radius error               0\n",
              "texture error              0\n",
              "perimeter error            0\n",
              "area error                 0\n",
              "smoothness error           0\n",
              "compactness error          0\n",
              "concavity error            0\n",
              "concave points error       0\n",
              "symmetry error             0\n",
              "fractal dimension error    0\n",
              "worst radius               0\n",
              "worst texture              0\n",
              "worst perimeter            0\n",
              "worst area                 0\n",
              "worst smoothness           0\n",
              "worst compactness          0\n",
              "worst concavity            0\n",
              "worst concave points       0\n",
              "worst symmetry             0\n",
              "worst fractal dimension    0\n",
              "label                      0\n",
              "dtype: int64"
            ]
          },
          "metadata": {},
          "execution_count": 13
        }
      ]
    },
    {
      "cell_type": "code",
      "source": [
        "#check distrbution of target values\n",
        "data_frame['label'].value_counts()"
      ],
      "metadata": {
        "colab": {
          "base_uri": "https://localhost:8080/"
        },
        "id": "CSEmc1uH1spY",
        "outputId": "259037e8-c454-459d-c148-6a7dc0718e4b"
      },
      "execution_count": 14,
      "outputs": [
        {
          "output_type": "execute_result",
          "data": {
            "text/plain": [
              "1    357\n",
              "0    212\n",
              "Name: label, dtype: int64"
            ]
          },
          "metadata": {},
          "execution_count": 14
        }
      ]
    },
    {
      "cell_type": "code",
      "source": [
        "#show different mean to both malignant and bengin\n",
        "data_frame.groupby('label').mean()"
      ],
      "metadata": {
        "colab": {
          "base_uri": "https://localhost:8080/",
          "height": 271
        },
        "id": "VgAQyf6b1yOr",
        "outputId": "677fa43d-2082-4815-aa33-dfbf1732522a"
      },
      "execution_count": 15,
      "outputs": [
        {
          "output_type": "execute_result",
          "data": {
            "text/plain": [
              "       mean radius  mean texture  mean perimeter   mean area  mean smoothness  \\\n",
              "label                                                                           \n",
              "0        17.462830     21.604906      115.365377  978.376415         0.102898   \n",
              "1        12.146524     17.914762       78.075406  462.790196         0.092478   \n",
              "\n",
              "       mean compactness  mean concavity  mean concave points  mean symmetry  \\\n",
              "label                                                                         \n",
              "0              0.145188        0.160775             0.087990       0.192909   \n",
              "1              0.080085        0.046058             0.025717       0.174186   \n",
              "\n",
              "       mean fractal dimension  ...  worst radius  worst texture  \\\n",
              "label                          ...                                \n",
              "0                    0.062680  ...     21.134811      29.318208   \n",
              "1                    0.062867  ...     13.379801      23.515070   \n",
              "\n",
              "       worst perimeter   worst area  worst smoothness  worst compactness  \\\n",
              "label                                                                      \n",
              "0           141.370330  1422.286321          0.144845           0.374824   \n",
              "1            87.005938   558.899440          0.124959           0.182673   \n",
              "\n",
              "       worst concavity  worst concave points  worst symmetry  \\\n",
              "label                                                          \n",
              "0             0.450606              0.182237        0.323468   \n",
              "1             0.166238              0.074444        0.270246   \n",
              "\n",
              "       worst fractal dimension  \n",
              "label                           \n",
              "0                     0.091530  \n",
              "1                     0.079442  \n",
              "\n",
              "[2 rows x 30 columns]"
            ],
            "text/html": [
              "\n",
              "  <div id=\"df-c60f8877-ce09-4788-a194-3eaaa72aa104\">\n",
              "    <div class=\"colab-df-container\">\n",
              "      <div>\n",
              "<style scoped>\n",
              "    .dataframe tbody tr th:only-of-type {\n",
              "        vertical-align: middle;\n",
              "    }\n",
              "\n",
              "    .dataframe tbody tr th {\n",
              "        vertical-align: top;\n",
              "    }\n",
              "\n",
              "    .dataframe thead th {\n",
              "        text-align: right;\n",
              "    }\n",
              "</style>\n",
              "<table border=\"1\" class=\"dataframe\">\n",
              "  <thead>\n",
              "    <tr style=\"text-align: right;\">\n",
              "      <th></th>\n",
              "      <th>mean radius</th>\n",
              "      <th>mean texture</th>\n",
              "      <th>mean perimeter</th>\n",
              "      <th>mean area</th>\n",
              "      <th>mean smoothness</th>\n",
              "      <th>mean compactness</th>\n",
              "      <th>mean concavity</th>\n",
              "      <th>mean concave points</th>\n",
              "      <th>mean symmetry</th>\n",
              "      <th>mean fractal dimension</th>\n",
              "      <th>...</th>\n",
              "      <th>worst radius</th>\n",
              "      <th>worst texture</th>\n",
              "      <th>worst perimeter</th>\n",
              "      <th>worst area</th>\n",
              "      <th>worst smoothness</th>\n",
              "      <th>worst compactness</th>\n",
              "      <th>worst concavity</th>\n",
              "      <th>worst concave points</th>\n",
              "      <th>worst symmetry</th>\n",
              "      <th>worst fractal dimension</th>\n",
              "    </tr>\n",
              "    <tr>\n",
              "      <th>label</th>\n",
              "      <th></th>\n",
              "      <th></th>\n",
              "      <th></th>\n",
              "      <th></th>\n",
              "      <th></th>\n",
              "      <th></th>\n",
              "      <th></th>\n",
              "      <th></th>\n",
              "      <th></th>\n",
              "      <th></th>\n",
              "      <th></th>\n",
              "      <th></th>\n",
              "      <th></th>\n",
              "      <th></th>\n",
              "      <th></th>\n",
              "      <th></th>\n",
              "      <th></th>\n",
              "      <th></th>\n",
              "      <th></th>\n",
              "      <th></th>\n",
              "      <th></th>\n",
              "    </tr>\n",
              "  </thead>\n",
              "  <tbody>\n",
              "    <tr>\n",
              "      <th>0</th>\n",
              "      <td>17.462830</td>\n",
              "      <td>21.604906</td>\n",
              "      <td>115.365377</td>\n",
              "      <td>978.376415</td>\n",
              "      <td>0.102898</td>\n",
              "      <td>0.145188</td>\n",
              "      <td>0.160775</td>\n",
              "      <td>0.087990</td>\n",
              "      <td>0.192909</td>\n",
              "      <td>0.062680</td>\n",
              "      <td>...</td>\n",
              "      <td>21.134811</td>\n",
              "      <td>29.318208</td>\n",
              "      <td>141.370330</td>\n",
              "      <td>1422.286321</td>\n",
              "      <td>0.144845</td>\n",
              "      <td>0.374824</td>\n",
              "      <td>0.450606</td>\n",
              "      <td>0.182237</td>\n",
              "      <td>0.323468</td>\n",
              "      <td>0.091530</td>\n",
              "    </tr>\n",
              "    <tr>\n",
              "      <th>1</th>\n",
              "      <td>12.146524</td>\n",
              "      <td>17.914762</td>\n",
              "      <td>78.075406</td>\n",
              "      <td>462.790196</td>\n",
              "      <td>0.092478</td>\n",
              "      <td>0.080085</td>\n",
              "      <td>0.046058</td>\n",
              "      <td>0.025717</td>\n",
              "      <td>0.174186</td>\n",
              "      <td>0.062867</td>\n",
              "      <td>...</td>\n",
              "      <td>13.379801</td>\n",
              "      <td>23.515070</td>\n",
              "      <td>87.005938</td>\n",
              "      <td>558.899440</td>\n",
              "      <td>0.124959</td>\n",
              "      <td>0.182673</td>\n",
              "      <td>0.166238</td>\n",
              "      <td>0.074444</td>\n",
              "      <td>0.270246</td>\n",
              "      <td>0.079442</td>\n",
              "    </tr>\n",
              "  </tbody>\n",
              "</table>\n",
              "<p>2 rows × 30 columns</p>\n",
              "</div>\n",
              "      <button class=\"colab-df-convert\" onclick=\"convertToInteractive('df-c60f8877-ce09-4788-a194-3eaaa72aa104')\"\n",
              "              title=\"Convert this dataframe to an interactive table.\"\n",
              "              style=\"display:none;\">\n",
              "        \n",
              "  <svg xmlns=\"http://www.w3.org/2000/svg\" height=\"24px\"viewBox=\"0 0 24 24\"\n",
              "       width=\"24px\">\n",
              "    <path d=\"M0 0h24v24H0V0z\" fill=\"none\"/>\n",
              "    <path d=\"M18.56 5.44l.94 2.06.94-2.06 2.06-.94-2.06-.94-.94-2.06-.94 2.06-2.06.94zm-11 1L8.5 8.5l.94-2.06 2.06-.94-2.06-.94L8.5 2.5l-.94 2.06-2.06.94zm10 10l.94 2.06.94-2.06 2.06-.94-2.06-.94-.94-2.06-.94 2.06-2.06.94z\"/><path d=\"M17.41 7.96l-1.37-1.37c-.4-.4-.92-.59-1.43-.59-.52 0-1.04.2-1.43.59L10.3 9.45l-7.72 7.72c-.78.78-.78 2.05 0 2.83L4 21.41c.39.39.9.59 1.41.59.51 0 1.02-.2 1.41-.59l7.78-7.78 2.81-2.81c.8-.78.8-2.07 0-2.86zM5.41 20L4 18.59l7.72-7.72 1.47 1.35L5.41 20z\"/>\n",
              "  </svg>\n",
              "      </button>\n",
              "      \n",
              "  <style>\n",
              "    .colab-df-container {\n",
              "      display:flex;\n",
              "      flex-wrap:wrap;\n",
              "      gap: 12px;\n",
              "    }\n",
              "\n",
              "    .colab-df-convert {\n",
              "      background-color: #E8F0FE;\n",
              "      border: none;\n",
              "      border-radius: 50%;\n",
              "      cursor: pointer;\n",
              "      display: none;\n",
              "      fill: #1967D2;\n",
              "      height: 32px;\n",
              "      padding: 0 0 0 0;\n",
              "      width: 32px;\n",
              "    }\n",
              "\n",
              "    .colab-df-convert:hover {\n",
              "      background-color: #E2EBFA;\n",
              "      box-shadow: 0px 1px 2px rgba(60, 64, 67, 0.3), 0px 1px 3px 1px rgba(60, 64, 67, 0.15);\n",
              "      fill: #174EA6;\n",
              "    }\n",
              "\n",
              "    [theme=dark] .colab-df-convert {\n",
              "      background-color: #3B4455;\n",
              "      fill: #D2E3FC;\n",
              "    }\n",
              "\n",
              "    [theme=dark] .colab-df-convert:hover {\n",
              "      background-color: #434B5C;\n",
              "      box-shadow: 0px 1px 3px 1px rgba(0, 0, 0, 0.15);\n",
              "      filter: drop-shadow(0px 1px 2px rgba(0, 0, 0, 0.3));\n",
              "      fill: #FFFFFF;\n",
              "    }\n",
              "  </style>\n",
              "\n",
              "      <script>\n",
              "        const buttonEl =\n",
              "          document.querySelector('#df-c60f8877-ce09-4788-a194-3eaaa72aa104 button.colab-df-convert');\n",
              "        buttonEl.style.display =\n",
              "          google.colab.kernel.accessAllowed ? 'block' : 'none';\n",
              "\n",
              "        async function convertToInteractive(key) {\n",
              "          const element = document.querySelector('#df-c60f8877-ce09-4788-a194-3eaaa72aa104');\n",
              "          const dataTable =\n",
              "            await google.colab.kernel.invokeFunction('convertToInteractive',\n",
              "                                                     [key], {});\n",
              "          if (!dataTable) return;\n",
              "\n",
              "          const docLinkHtml = 'Like what you see? Visit the ' +\n",
              "            '<a target=\"_blank\" href=https://colab.research.google.com/notebooks/data_table.ipynb>data table notebook</a>'\n",
              "            + ' to learn more about interactive tables.';\n",
              "          element.innerHTML = '';\n",
              "          dataTable['output_type'] = 'display_data';\n",
              "          await google.colab.output.renderOutput(dataTable, element);\n",
              "          const docLink = document.createElement('div');\n",
              "          docLink.innerHTML = docLinkHtml;\n",
              "          element.appendChild(docLink);\n",
              "        }\n",
              "      </script>\n",
              "    </div>\n",
              "  </div>\n",
              "  "
            ]
          },
          "metadata": {},
          "execution_count": 15
        }
      ]
    },
    {
      "cell_type": "markdown",
      "source": [
        "### Separating The Dataset"
      ],
      "metadata": {
        "id": "ZrXN45TV3pHH"
      }
    },
    {
      "cell_type": "code",
      "source": [
        "x=data_frame.drop(columns='label',axis=1)\n",
        "y=data_frame['label']"
      ],
      "metadata": {
        "id": "Y1rVB7IT3u97"
      },
      "execution_count": 16,
      "outputs": []
    },
    {
      "cell_type": "code",
      "source": [
        "print(x)"
      ],
      "metadata": {
        "colab": {
          "base_uri": "https://localhost:8080/"
        },
        "id": "mPm6oejW33cp",
        "outputId": "0bca104e-fe55-45a7-afb0-8da395377060"
      },
      "execution_count": 17,
      "outputs": [
        {
          "output_type": "stream",
          "name": "stdout",
          "text": [
            "     mean radius  mean texture  mean perimeter  mean area  mean smoothness  \\\n",
            "0          17.99         10.38          122.80     1001.0          0.11840   \n",
            "1          20.57         17.77          132.90     1326.0          0.08474   \n",
            "2          19.69         21.25          130.00     1203.0          0.10960   \n",
            "3          11.42         20.38           77.58      386.1          0.14250   \n",
            "4          20.29         14.34          135.10     1297.0          0.10030   \n",
            "..           ...           ...             ...        ...              ...   \n",
            "564        21.56         22.39          142.00     1479.0          0.11100   \n",
            "565        20.13         28.25          131.20     1261.0          0.09780   \n",
            "566        16.60         28.08          108.30      858.1          0.08455   \n",
            "567        20.60         29.33          140.10     1265.0          0.11780   \n",
            "568         7.76         24.54           47.92      181.0          0.05263   \n",
            "\n",
            "     mean compactness  mean concavity  mean concave points  mean symmetry  \\\n",
            "0             0.27760         0.30010              0.14710         0.2419   \n",
            "1             0.07864         0.08690              0.07017         0.1812   \n",
            "2             0.15990         0.19740              0.12790         0.2069   \n",
            "3             0.28390         0.24140              0.10520         0.2597   \n",
            "4             0.13280         0.19800              0.10430         0.1809   \n",
            "..                ...             ...                  ...            ...   \n",
            "564           0.11590         0.24390              0.13890         0.1726   \n",
            "565           0.10340         0.14400              0.09791         0.1752   \n",
            "566           0.10230         0.09251              0.05302         0.1590   \n",
            "567           0.27700         0.35140              0.15200         0.2397   \n",
            "568           0.04362         0.00000              0.00000         0.1587   \n",
            "\n",
            "     mean fractal dimension  ...  worst radius  worst texture  \\\n",
            "0                   0.07871  ...        25.380          17.33   \n",
            "1                   0.05667  ...        24.990          23.41   \n",
            "2                   0.05999  ...        23.570          25.53   \n",
            "3                   0.09744  ...        14.910          26.50   \n",
            "4                   0.05883  ...        22.540          16.67   \n",
            "..                      ...  ...           ...            ...   \n",
            "564                 0.05623  ...        25.450          26.40   \n",
            "565                 0.05533  ...        23.690          38.25   \n",
            "566                 0.05648  ...        18.980          34.12   \n",
            "567                 0.07016  ...        25.740          39.42   \n",
            "568                 0.05884  ...         9.456          30.37   \n",
            "\n",
            "     worst perimeter  worst area  worst smoothness  worst compactness  \\\n",
            "0             184.60      2019.0           0.16220            0.66560   \n",
            "1             158.80      1956.0           0.12380            0.18660   \n",
            "2             152.50      1709.0           0.14440            0.42450   \n",
            "3              98.87       567.7           0.20980            0.86630   \n",
            "4             152.20      1575.0           0.13740            0.20500   \n",
            "..               ...         ...               ...                ...   \n",
            "564           166.10      2027.0           0.14100            0.21130   \n",
            "565           155.00      1731.0           0.11660            0.19220   \n",
            "566           126.70      1124.0           0.11390            0.30940   \n",
            "567           184.60      1821.0           0.16500            0.86810   \n",
            "568            59.16       268.6           0.08996            0.06444   \n",
            "\n",
            "     worst concavity  worst concave points  worst symmetry  \\\n",
            "0             0.7119                0.2654          0.4601   \n",
            "1             0.2416                0.1860          0.2750   \n",
            "2             0.4504                0.2430          0.3613   \n",
            "3             0.6869                0.2575          0.6638   \n",
            "4             0.4000                0.1625          0.2364   \n",
            "..               ...                   ...             ...   \n",
            "564           0.4107                0.2216          0.2060   \n",
            "565           0.3215                0.1628          0.2572   \n",
            "566           0.3403                0.1418          0.2218   \n",
            "567           0.9387                0.2650          0.4087   \n",
            "568           0.0000                0.0000          0.2871   \n",
            "\n",
            "     worst fractal dimension  \n",
            "0                    0.11890  \n",
            "1                    0.08902  \n",
            "2                    0.08758  \n",
            "3                    0.17300  \n",
            "4                    0.07678  \n",
            "..                       ...  \n",
            "564                  0.07115  \n",
            "565                  0.06637  \n",
            "566                  0.07820  \n",
            "567                  0.12400  \n",
            "568                  0.07039  \n",
            "\n",
            "[569 rows x 30 columns]\n"
          ]
        }
      ]
    },
    {
      "cell_type": "code",
      "source": [
        "print(y)"
      ],
      "metadata": {
        "colab": {
          "base_uri": "https://localhost:8080/"
        },
        "id": "jfZ7f-uL35YA",
        "outputId": "97fd1db2-3841-4efe-b1d4-e26029fcd42e"
      },
      "execution_count": 18,
      "outputs": [
        {
          "output_type": "stream",
          "name": "stdout",
          "text": [
            "0      0\n",
            "1      0\n",
            "2      0\n",
            "3      0\n",
            "4      0\n",
            "      ..\n",
            "564    0\n",
            "565    0\n",
            "566    0\n",
            "567    0\n",
            "568    1\n",
            "Name: label, Length: 569, dtype: int64\n"
          ]
        }
      ]
    },
    {
      "cell_type": "markdown",
      "source": [
        "## Data Standardization"
      ],
      "metadata": {
        "id": "Wt2iIGMS68QY"
      }
    },
    {
      "cell_type": "code",
      "source": [
        "scaler = StandardScaler()\n",
        "scaler.fit(x)\n",
        "standardized_data = scaler.transform(x)\n",
        "print(\"Data After Standardization\\n\", standardized_data)\n",
        "x = standardized_data"
      ],
      "metadata": {
        "colab": {
          "base_uri": "https://localhost:8080/"
        },
        "id": "PkGWbq5S7MxF",
        "outputId": "f7791ec9-dd6e-4f61-b98e-608835800b80"
      },
      "execution_count": 26,
      "outputs": [
        {
          "output_type": "stream",
          "name": "stdout",
          "text": [
            "Data After Standardization\n",
            " [[ 1.09706398 -2.07333501  1.26993369 ...  2.29607613  2.75062224\n",
            "   1.93701461]\n",
            " [ 1.82982061 -0.35363241  1.68595471 ...  1.0870843  -0.24388967\n",
            "   0.28118999]\n",
            " [ 1.57988811  0.45618695  1.56650313 ...  1.95500035  1.152255\n",
            "   0.20139121]\n",
            " ...\n",
            " [ 0.70228425  2.0455738   0.67267578 ...  0.41406869 -1.10454895\n",
            "  -0.31840916]\n",
            " [ 1.83834103  2.33645719  1.98252415 ...  2.28998549  1.91908301\n",
            "   2.21963528]\n",
            " [-1.80840125  1.22179204 -1.81438851 ... -1.74506282 -0.04813821\n",
            "  -0.75120669]]\n"
          ]
        }
      ]
    },
    {
      "cell_type": "markdown",
      "source": [
        "# **Spilting the dataset - Training & Testing**"
      ],
      "metadata": {
        "id": "SAmtS0BF4qz7"
      }
    },
    {
      "cell_type": "code",
      "source": [
        "x_train, x_test, y_train, y_test = train_test_split(x, y, test_size=0.25, random_state=3)\n",
        "clf = SVC(random_state = 0)\n",
        "clf.fit(x_train, y_train)\n",
        "SVC(random_state=0)\n",
        "plot_confusion_matrix(clf, x_test, y_test)  \n",
        "plt.show()\n",
        "print(x.shape,x_train.shape,x_test.shape)\n",
        "print(y.shape,y_train.shape,y_test.shape)\n",
        "print(\"The Whole Data    => \", x.shape,\n",
        "      \"\\nThe Training Data => \", x_train.shape,\n",
        "      \"\\nThe Test Data     => \", x_test.shape)"
      ],
      "metadata": {
        "colab": {
          "base_uri": "https://localhost:8080/",
          "height": 420
        },
        "id": "GPP9WW5O5Ju1",
        "outputId": "d0eeb897-d7b4-40a2-bf17-e20779f9f92f"
      },
      "execution_count": 57,
      "outputs": [
        {
          "output_type": "stream",
          "name": "stderr",
          "text": [
            "/usr/local/lib/python3.8/dist-packages/sklearn/utils/deprecation.py:87: FutureWarning: Function plot_confusion_matrix is deprecated; Function `plot_confusion_matrix` is deprecated in 1.0 and will be removed in 1.2. Use one of the class methods: ConfusionMatrixDisplay.from_predictions or ConfusionMatrixDisplay.from_estimator.\n",
            "  warnings.warn(msg, category=FutureWarning)\n"
          ]
        },
        {
          "output_type": "display_data",
          "data": {
            "text/plain": [
              "<Figure size 432x288 with 2 Axes>"
            ],
            "image/png": "[encoded data removed]"
          },
          "metadata": {
            "needs_background": "light"
          }
        },
        {
          "output_type": "stream",
          "name": "stdout",
          "text": [
            "(569, 30) (426, 30) (143, 30)\n",
            "(569,) (426,) (143,)\n",
            "The Whole Data    =>  (569, 30) \n",
            "The Training Data =>  (426, 30) \n",
            "The Test Data     =>  (143, 30)\n"
          ]
        }
      ]
    },
    {
      "cell_type": "markdown",
      "source": [
        "# **1. Logistic Regression**"
      ],
      "metadata": {
        "id": "23HCTBox6CIC"
      }
    },
    {
      "cell_type": "markdown",
      "source": [
        "## Training The Model"
      ],
      "metadata": {
        "id": "GotCu3pG6aOt"
      }
    },
    {
      "cell_type": "code",
      "source": [
        "model = LogisticRegression()\n",
        "model.fit(x_train, y_train)"
      ],
      "metadata": {
        "colab": {
          "base_uri": "https://localhost:8080/"
        },
        "id": "uZJ54cCY6e5_",
        "outputId": "3050b272-1d78-432c-e65e-5095530c0f52"
      },
      "execution_count": 28,
      "outputs": [
        {
          "output_type": "execute_result",
          "data": {
            "text/plain": [
              "LogisticRegression()"
            ]
          },
          "metadata": {},
          "execution_count": 28
        }
      ]
    },
    {
      "cell_type": "markdown",
      "source": [
        "## Model Evaluation"
      ],
      "metadata": {
        "id": "PkRBwZ8j89fw"
      }
    },
    {
      "cell_type": "code",
      "source": [
        "# Accuracy Score of Training Data\n",
        "x_train_predict=model.predict(x_train)\n",
        "train_accuracy=accuracy_score(y_train,x_train_predict)\n",
        "print(\"Accuracy for training dataset ->\", train_accuracy*100)"
      ],
      "metadata": {
        "colab": {
          "base_uri": "https://localhost:8080/"
        },
        "id": "PdlTg2bH9BY-",
        "outputId": "1f816727-5437-4840-df5b-5c1e57a28138"
      },
      "execution_count": 30,
      "outputs": [
        {
          "output_type": "stream",
          "name": "stdout",
          "text": [
            "Accuracy for training dataset -> 98.82629107981221\n"
          ]
        }
      ]
    },
    {
      "cell_type": "code",
      "source": [
        "# Accuracy Score of Testing Data\n",
        "x_test_predict = model.predict(x_test)\n",
        "test_data_accuracy = accuracy_score(y_test, x_test_predict)\n",
        "print(\"Accuracy for testing dataset ->\", test_data_accuracy*100)"
      ],
      "metadata": {
        "colab": {
          "base_uri": "https://localhost:8080/"
        },
        "id": "UUxIAkr19Plu",
        "outputId": "809edb19-f129-4aad-f1bc-8c489366e358"
      },
      "execution_count": 31,
      "outputs": [
        {
          "output_type": "stream",
          "name": "stdout",
          "text": [
            "Accuracy for testing dataset -> 97.2027972027972\n"
          ]
        }
      ]
    },
    {
      "cell_type": "markdown",
      "source": [
        "## A Predictive System"
      ],
      "metadata": {
        "id": "uZHOKc2Y-GhJ"
      }
    },
    {
      "cell_type": "code",
      "source": [
        "# Input values for testing the model\n",
        "# Malignant\n",
        "data_input_1 = (14.68,20.13,94.74,684.5,0.09867,0.072,0.07395,0.05259,0.1586,0.05922,0.4727,1.24,3.195,45.4,0.005718,0.01162,0.01998,0.01109,0.0141,0.002085,19.07,30.88,123.4,1138,0.1464,0.1871,0.2914,0.1609,0.3029,0.08216)\n",
        "# Benign\n",
        "input_data_2 = (13.08,15.71,85.63,520,0.1075,0.127,0.04568,0.0311,0.1967,0.06811,0.1852,0.7477,1.383,14.67,0.004097,0.01898,0.01698,0.00649,0.01678,0.002425,14.5,20.49,96.09,630.5,0.1312,0.2776,0.189,0.07283,0.3184,0.08183)\n",
        "\n",
        "# Change the input list to numpy array\n",
        "input_data_numpy_array = np.asarray(data_input_1)\n",
        "\n",
        "# Reshape the numpy array for one instance\n",
        "input_data_reshaped = input_data_numpy_array.reshape(1,-1)\n",
        "\n",
        "# Standardized the input data\n",
        "std_data = scaler.transform(input_data_reshaped)\n",
        "\n",
        "# Prediction Result\n",
        "prediction = model.predict(std_data)\n",
        "print(prediction)\n",
        "\n",
        "if (prediction[0] == 0):\n",
        "  print('Malignant خبيث --> There is Breast Cancer ):')\n",
        "else:\n",
        "  print('Benign حميد --> There is no Breast Cancer (:')"
      ],
      "metadata": {
        "colab": {
          "base_uri": "https://localhost:8080/"
        },
        "id": "075GEl75-N9q",
        "outputId": "4845d859-55f6-42c6-d227-4b3ce4ec11c5"
      },
      "execution_count": 37,
      "outputs": [
        {
          "output_type": "stream",
          "name": "stdout",
          "text": [
            "[0]\n",
            "Malignant خبيث --> There is Breast Cancer ):\n"
          ]
        }
      ]
    },
    {
      "cell_type": "markdown",
      "source": [
        "# **2. Artificial Neural Network - ANN**"
      ],
      "metadata": {
        "id": "p1XzUKdDDx-K"
      }
    },
    {
      "cell_type": "markdown",
      "source": [
        "## Import Libraries"
      ],
      "metadata": {
        "id": "V6dNBtnrGRrg"
      }
    },
    {
      "cell_type": "code",
      "source": [
        "import os\n",
        "import numpy as np\n",
        "import pandas as pd\n",
        "import matplotlib\n",
        "import matplotlib.pyplot as plt\n",
        "from sklearn.preprocessing import LabelEncoder\n",
        "from sklearn import preprocessing\n",
        "import seaborn as sns\n",
        "import warnings\n",
        "import keras\n",
        "from keras.models import Sequential\n",
        "from keras.layers import Dense, Dropout\n",
        "from keras.layers import Conv2D\n",
        "from keras.regularizers import l2\n",
        "import pickle\n",
        "from sklearn.metrics import confusion_matrix, accuracy_score\n",
        "from sklearn.model_selection import learning_curve\n",
        "from sklearn.ensemble import RandomForestClassifier"
      ],
      "metadata": {
        "id": "Jtf99Ne6GX2t"
      },
      "execution_count": 51,
      "outputs": []
    },
    {
      "cell_type": "markdown",
      "source": [
        "## Model Training"
      ],
      "metadata": {
        "id": "Drap3dFTGbbs"
      }
    },
    {
      "cell_type": "code",
      "source": [
        "ann = Sequential()\n",
        "ann.add(Dense(units=2500, activation='relu'))\n",
        "ann.add(Dense(32, kernel_regularizer=l2(0.01), bias_regularizer=l2(0.01)))\n",
        "ann.add(Dense(units=64, activation='relu'))\n",
        "ann.add(Dense(units=1, activation='sigmoid'))\n",
        "ann.compile(optimizer = 'adam', loss = 'binary_crossentropy', metrics = ['accuracy'])\n",
        "\n",
        "checkpoint = keras.callbacks.ModelCheckpoint(filepath=\"weights.h5\", verbose=1, save_best_only=True)\n",
        "historic =ann.fit(x_train, y_train, batch_size = 32, epochs = 100,validation_split=0.2, verbose=1, callbacks=[checkpoint])\n",
        "print(ann.evaluate(x_test, y_test))\n",
        "print(ann.metrics_names)"
      ],
      "metadata": {
        "colab": {
          "base_uri": "https://localhost:8080/"
        },
        "id": "nO6qi7-kGkLG",
        "outputId": "8dd45b56-b285-470f-aab6-4e27cd4620c3"
      },
      "execution_count": 40,
      "outputs": [
        {
          "output_type": "stream",
          "name": "stdout",
          "text": [
            "Epoch 1/100\n",
            "10/11 [==========================>...] - ETA: 0s - loss: 0.8645 - accuracy: 0.9156 \n",
            "Epoch 1: val_loss improved from inf to 0.59305, saving model to weights.h5\n",
            "11/11 [==============================] - 1s 36ms/step - loss: 0.8459 - accuracy: 0.9206 - val_loss: 0.5930 - val_accuracy: 0.9419\n",
            "Epoch 2/100\n",
            " 8/11 [====================>.........] - ETA: 0s - loss: 0.5311 - accuracy: 0.9688\n",
            "Epoch 2: val_loss improved from 0.59305 to 0.38964, saving model to weights.h5\n",
            "11/11 [==============================] - 0s 14ms/step - loss: 0.4974 - accuracy: 0.9765 - val_loss: 0.3896 - val_accuracy: 0.9767\n",
            "Epoch 3/100\n",
            "10/11 [==========================>...] - ETA: 0s - loss: 0.3377 - accuracy: 0.9844\n",
            "Epoch 3: val_loss improved from 0.38964 to 0.26100, saving model to weights.h5\n",
            "11/11 [==============================] - 0s 14ms/step - loss: 0.3329 - accuracy: 0.9853 - val_loss: 0.2610 - val_accuracy: 0.9767\n",
            "Epoch 4/100\n",
            "10/11 [==========================>...] - ETA: 0s - loss: 0.2221 - accuracy: 0.9875\n",
            "Epoch 4: val_loss improved from 0.26100 to 0.17615, saving model to weights.h5\n",
            "11/11 [==============================] - 0s 13ms/step - loss: 0.2188 - accuracy: 0.9882 - val_loss: 0.1761 - val_accuracy: 0.9884\n",
            "Epoch 5/100\n",
            "10/11 [==========================>...] - ETA: 0s - loss: 0.1513 - accuracy: 0.9906\n",
            "Epoch 5: val_loss improved from 0.17615 to 0.12403, saving model to weights.h5\n",
            "11/11 [==============================] - 0s 12ms/step - loss: 0.1503 - accuracy: 0.9882 - val_loss: 0.1240 - val_accuracy: 0.9884\n",
            "Epoch 6/100\n",
            " 8/11 [====================>.........] - ETA: 0s - loss: 0.1066 - accuracy: 0.9922\n",
            "Epoch 6: val_loss improved from 0.12403 to 0.10068, saving model to weights.h5\n",
            "11/11 [==============================] - 0s 14ms/step - loss: 0.1084 - accuracy: 0.9912 - val_loss: 0.1007 - val_accuracy: 0.9767\n",
            "Epoch 7/100\n",
            "10/11 [==========================>...] - ETA: 0s - loss: 0.0827 - accuracy: 0.9906\n",
            "Epoch 7: val_loss improved from 0.10068 to 0.07461, saving model to weights.h5\n",
            "11/11 [==============================] - 0s 15ms/step - loss: 0.0814 - accuracy: 0.9912 - val_loss: 0.0746 - val_accuracy: 0.9884\n",
            "Epoch 8/100\n",
            " 8/11 [====================>.........] - ETA: 0s - loss: 0.0710 - accuracy: 0.9883\n",
            "Epoch 8: val_loss improved from 0.07461 to 0.06827, saving model to weights.h5\n",
            "11/11 [==============================] - 0s 14ms/step - loss: 0.0671 - accuracy: 0.9882 - val_loss: 0.0683 - val_accuracy: 0.9884\n",
            "Epoch 9/100\n",
            "10/11 [==========================>...] - ETA: 0s - loss: 0.0568 - accuracy: 0.9906\n",
            "Epoch 9: val_loss improved from 0.06827 to 0.06084, saving model to weights.h5\n",
            "11/11 [==============================] - 0s 13ms/step - loss: 0.0558 - accuracy: 0.9912 - val_loss: 0.0608 - val_accuracy: 0.9884\n",
            "Epoch 10/100\n",
            " 9/11 [=======================>......] - ETA: 0s - loss: 0.0513 - accuracy: 0.9965\n",
            "Epoch 10: val_loss improved from 0.06084 to 0.04846, saving model to weights.h5\n",
            "11/11 [==============================] - 0s 14ms/step - loss: 0.0484 - accuracy: 0.9971 - val_loss: 0.0485 - val_accuracy: 0.9884\n",
            "Epoch 11/100\n",
            "10/11 [==========================>...] - ETA: 0s - loss: 0.0442 - accuracy: 0.9937\n",
            "Epoch 11: val_loss did not improve from 0.04846\n",
            "11/11 [==============================] - 0s 11ms/step - loss: 0.0430 - accuracy: 0.9941 - val_loss: 0.0513 - val_accuracy: 0.9884\n",
            "Epoch 12/100\n",
            "10/11 [==========================>...] - ETA: 0s - loss: 0.0375 - accuracy: 0.9937\n",
            "Epoch 12: val_loss did not improve from 0.04846\n",
            "11/11 [==============================] - 0s 9ms/step - loss: 0.0378 - accuracy: 0.9941 - val_loss: 0.0487 - val_accuracy: 0.9884\n",
            "Epoch 13/100\n",
            " 9/11 [=======================>......] - ETA: 0s - loss: 0.0313 - accuracy: 0.9965\n",
            "Epoch 13: val_loss improved from 0.04846 to 0.04460, saving model to weights.h5\n",
            "11/11 [==============================] - 0s 14ms/step - loss: 0.0325 - accuracy: 0.9971 - val_loss: 0.0446 - val_accuracy: 0.9884\n",
            "Epoch 14/100\n",
            " 9/11 [=======================>......] - ETA: 0s - loss: 0.0261 - accuracy: 0.9965\n",
            "Epoch 14: val_loss did not improve from 0.04460\n",
            "11/11 [==============================] - 0s 11ms/step - loss: 0.0355 - accuracy: 0.9941 - val_loss: 0.0518 - val_accuracy: 0.9767\n",
            "Epoch 15/100\n",
            " 9/11 [=======================>......] - ETA: 0s - loss: 0.0337 - accuracy: 0.9965\n",
            "Epoch 15: val_loss improved from 0.04460 to 0.02615, saving model to weights.h5\n",
            "11/11 [==============================] - 0s 13ms/step - loss: 0.0314 - accuracy: 0.9971 - val_loss: 0.0262 - val_accuracy: 1.0000\n",
            "Epoch 16/100\n",
            " 9/11 [=======================>......] - ETA: 0s - loss: 0.0373 - accuracy: 0.9896\n",
            "Epoch 16: val_loss did not improve from 0.02615\n",
            "11/11 [==============================] - 0s 11ms/step - loss: 0.0366 - accuracy: 0.9912 - val_loss: 0.0518 - val_accuracy: 0.9884\n",
            "Epoch 17/100\n",
            "10/11 [==========================>...] - ETA: 0s - loss: 0.0263 - accuracy: 0.9969\n",
            "Epoch 17: val_loss did not improve from 0.02615\n",
            "11/11 [==============================] - 0s 12ms/step - loss: 0.0302 - accuracy: 0.9941 - val_loss: 0.0457 - val_accuracy: 0.9884\n",
            "Epoch 18/100\n",
            "10/11 [==========================>...] - ETA: 0s - loss: 0.0221 - accuracy: 1.0000\n",
            "Epoch 18: val_loss did not improve from 0.02615\n",
            "11/11 [==============================] - 0s 10ms/step - loss: 0.0218 - accuracy: 1.0000 - val_loss: 0.0415 - val_accuracy: 0.9884\n",
            "Epoch 19/100\n",
            " 9/11 [=======================>......] - ETA: 0s - loss: 0.0247 - accuracy: 0.9965\n",
            "Epoch 19: val_loss did not improve from 0.02615\n",
            "11/11 [==============================] - 0s 12ms/step - loss: 0.0249 - accuracy: 0.9971 - val_loss: 0.0316 - val_accuracy: 0.9884\n",
            "Epoch 20/100\n",
            "10/11 [==========================>...] - ETA: 0s - loss: 0.0233 - accuracy: 0.9937\n",
            "Epoch 20: val_loss did not improve from 0.02615\n",
            "11/11 [==============================] - 0s 9ms/step - loss: 0.0231 - accuracy: 0.9941 - val_loss: 0.0688 - val_accuracy: 0.9767\n",
            "Epoch 21/100\n",
            " 9/11 [=======================>......] - ETA: 0s - loss: 0.0237 - accuracy: 1.0000\n",
            "Epoch 21: val_loss did not improve from 0.02615\n",
            "11/11 [==============================] - 0s 11ms/step - loss: 0.0231 - accuracy: 1.0000 - val_loss: 0.0348 - val_accuracy: 0.9884\n",
            "Epoch 22/100\n",
            " 8/11 [====================>.........] - ETA: 0s - loss: 0.0254 - accuracy: 0.9922\n",
            "Epoch 22: val_loss did not improve from 0.02615\n",
            "11/11 [==============================] - 0s 11ms/step - loss: 0.0242 - accuracy: 0.9941 - val_loss: 0.0379 - val_accuracy: 0.9884\n",
            "Epoch 23/100\n",
            "10/11 [==========================>...] - ETA: 0s - loss: 0.0176 - accuracy: 1.0000\n",
            "Epoch 23: val_loss improved from 0.02615 to 0.02613, saving model to weights.h5\n",
            "11/11 [==============================] - 0s 12ms/step - loss: 0.0178 - accuracy: 1.0000 - val_loss: 0.0261 - val_accuracy: 0.9884\n",
            "Epoch 24/100\n",
            "11/11 [==============================] - ETA: 0s - loss: 0.0152 - accuracy: 1.0000\n",
            "Epoch 24: val_loss did not improve from 0.02613\n",
            "11/11 [==============================] - 0s 10ms/step - loss: 0.0152 - accuracy: 1.0000 - val_loss: 0.0290 - val_accuracy: 0.9884\n",
            "Epoch 25/100\n",
            "11/11 [==============================] - ETA: 0s - loss: 0.0133 - accuracy: 1.0000\n",
            "Epoch 25: val_loss improved from 0.02613 to 0.02144, saving model to weights.h5\n",
            "11/11 [==============================] - 0s 12ms/step - loss: 0.0133 - accuracy: 1.0000 - val_loss: 0.0214 - val_accuracy: 0.9884\n",
            "Epoch 26/100\n",
            "10/11 [==========================>...] - ETA: 0s - loss: 0.0145 - accuracy: 1.0000\n",
            "Epoch 26: val_loss did not improve from 0.02144\n",
            "11/11 [==============================] - 0s 10ms/step - loss: 0.0144 - accuracy: 1.0000 - val_loss: 0.0406 - val_accuracy: 0.9884\n",
            "Epoch 27/100\n",
            " 1/11 [=>............................] - ETA: 0s - loss: 0.0124 - accuracy: 1.0000\n",
            "Epoch 27: val_loss did not improve from 0.02144\n",
            "11/11 [==============================] - 0s 9ms/step - loss: 0.0126 - accuracy: 1.0000 - val_loss: 0.0280 - val_accuracy: 0.9884\n",
            "Epoch 28/100\n",
            "11/11 [==============================] - ETA: 0s - loss: 0.0120 - accuracy: 1.0000\n",
            "Epoch 28: val_loss did not improve from 0.02144\n",
            "11/11 [==============================] - 0s 10ms/step - loss: 0.0120 - accuracy: 1.0000 - val_loss: 0.0265 - val_accuracy: 0.9884\n",
            "Epoch 29/100\n",
            " 9/11 [=======================>......] - ETA: 0s - loss: 0.0109 - accuracy: 1.0000\n",
            "Epoch 29: val_loss improved from 0.02144 to 0.01943, saving model to weights.h5\n",
            "11/11 [==============================] - 0s 12ms/step - loss: 0.0106 - accuracy: 1.0000 - val_loss: 0.0194 - val_accuracy: 0.9884\n",
            "Epoch 30/100\n",
            "10/11 [==========================>...] - ETA: 0s - loss: 0.0115 - accuracy: 1.0000\n",
            "Epoch 30: val_loss did not improve from 0.01943\n",
            "11/11 [==============================] - 0s 10ms/step - loss: 0.0113 - accuracy: 1.0000 - val_loss: 0.0216 - val_accuracy: 0.9884\n",
            "Epoch 31/100\n",
            "10/11 [==========================>...] - ETA: 0s - loss: 0.0103 - accuracy: 1.0000\n",
            "Epoch 31: val_loss did not improve from 0.01943\n",
            "11/11 [==============================] - 0s 9ms/step - loss: 0.0107 - accuracy: 1.0000 - val_loss: 0.0353 - val_accuracy: 0.9884\n",
            "Epoch 32/100\n",
            " 9/11 [=======================>......] - ETA: 0s - loss: 0.0114 - accuracy: 1.0000\n",
            "Epoch 32: val_loss improved from 0.01943 to 0.01227, saving model to weights.h5\n",
            "11/11 [==============================] - 0s 13ms/step - loss: 0.0112 - accuracy: 1.0000 - val_loss: 0.0123 - val_accuracy: 1.0000\n",
            "Epoch 33/100\n",
            "11/11 [==============================] - ETA: 0s - loss: 0.0147 - accuracy: 0.9971\n",
            "Epoch 33: val_loss did not improve from 0.01227\n",
            "11/11 [==============================] - 0s 9ms/step - loss: 0.0147 - accuracy: 0.9971 - val_loss: 0.0212 - val_accuracy: 0.9884\n",
            "Epoch 34/100\n",
            "11/11 [==============================] - ETA: 0s - loss: 0.0105 - accuracy: 1.0000\n",
            "Epoch 34: val_loss did not improve from 0.01227\n",
            "11/11 [==============================] - 0s 9ms/step - loss: 0.0105 - accuracy: 1.0000 - val_loss: 0.0146 - val_accuracy: 1.0000\n",
            "Epoch 35/100\n",
            " 1/11 [=>............................] - ETA: 0s - loss: 0.0152 - accuracy: 1.0000\n",
            "Epoch 35: val_loss did not improve from 0.01227\n",
            "11/11 [==============================] - 0s 9ms/step - loss: 0.0132 - accuracy: 1.0000 - val_loss: 0.0369 - val_accuracy: 0.9884\n",
            "Epoch 36/100\n",
            "11/11 [==============================] - ETA: 0s - loss: 0.0301 - accuracy: 0.9912\n",
            "Epoch 36: val_loss did not improve from 0.01227\n",
            "11/11 [==============================] - 0s 10ms/step - loss: 0.0301 - accuracy: 0.9912 - val_loss: 0.0319 - val_accuracy: 0.9884\n",
            "Epoch 37/100\n",
            "11/11 [==============================] - ETA: 0s - loss: 0.1765 - accuracy: 0.9706\n",
            "Epoch 37: val_loss did not improve from 0.01227\n",
            "11/11 [==============================] - 0s 8ms/step - loss: 0.1765 - accuracy: 0.9706 - val_loss: 0.0775 - val_accuracy: 0.9767\n",
            "Epoch 38/100\n",
            "11/11 [==============================] - ETA: 0s - loss: 0.0816 - accuracy: 0.9941\n",
            "Epoch 38: val_loss did not improve from 0.01227\n",
            "11/11 [==============================] - 0s 10ms/step - loss: 0.0816 - accuracy: 0.9941 - val_loss: 0.1123 - val_accuracy: 0.9651\n",
            "Epoch 39/100\n",
            "11/11 [==============================] - ETA: 0s - loss: 0.0858 - accuracy: 0.9853\n",
            "Epoch 39: val_loss did not improve from 0.01227\n",
            "11/11 [==============================] - 0s 10ms/step - loss: 0.0858 - accuracy: 0.9853 - val_loss: 0.1107 - val_accuracy: 0.9767\n",
            "Epoch 40/100\n",
            "11/11 [==============================] - ETA: 0s - loss: 0.0600 - accuracy: 0.9941\n",
            "Epoch 40: val_loss did not improve from 0.01227\n",
            "11/11 [==============================] - 0s 10ms/step - loss: 0.0600 - accuracy: 0.9941 - val_loss: 0.0872 - val_accuracy: 0.9767\n",
            "Epoch 41/100\n",
            " 1/11 [=>............................] - ETA: 0s - loss: 0.0610 - accuracy: 1.0000\n",
            "Epoch 41: val_loss did not improve from 0.01227\n",
            "11/11 [==============================] - 0s 8ms/step - loss: 0.0432 - accuracy: 1.0000 - val_loss: 0.0615 - val_accuracy: 0.9884\n",
            "Epoch 42/100\n",
            "11/11 [==============================] - ETA: 0s - loss: 0.0286 - accuracy: 1.0000\n",
            "Epoch 42: val_loss did not improve from 0.01227\n",
            "11/11 [==============================] - 0s 9ms/step - loss: 0.0286 - accuracy: 1.0000 - val_loss: 0.0511 - val_accuracy: 0.9884\n",
            "Epoch 43/100\n",
            " 9/11 [=======================>......] - ETA: 0s - loss: 0.0207 - accuracy: 1.0000\n",
            "Epoch 43: val_loss did not improve from 0.01227\n",
            "11/11 [==============================] - 0s 10ms/step - loss: 0.0207 - accuracy: 1.0000 - val_loss: 0.0495 - val_accuracy: 0.9767\n",
            "Epoch 44/100\n",
            "10/11 [==========================>...] - ETA: 0s - loss: 0.0155 - accuracy: 1.0000\n",
            "Epoch 44: val_loss did not improve from 0.01227\n",
            "11/11 [==============================] - 0s 10ms/step - loss: 0.0157 - accuracy: 1.0000 - val_loss: 0.0440 - val_accuracy: 0.9767\n",
            "Epoch 45/100\n",
            "10/11 [==========================>...] - ETA: 0s - loss: 0.0125 - accuracy: 1.0000\n",
            "Epoch 45: val_loss did not improve from 0.01227\n",
            "11/11 [==============================] - 0s 9ms/step - loss: 0.0128 - accuracy: 1.0000 - val_loss: 0.0386 - val_accuracy: 0.9767\n",
            "Epoch 46/100\n",
            " 9/11 [=======================>......] - ETA: 0s - loss: 0.0107 - accuracy: 1.0000\n",
            "Epoch 46: val_loss did not improve from 0.01227\n",
            "11/11 [==============================] - 0s 11ms/step - loss: 0.0112 - accuracy: 1.0000 - val_loss: 0.0348 - val_accuracy: 0.9884\n",
            "Epoch 47/100\n",
            "10/11 [==========================>...] - ETA: 0s - loss: 0.0103 - accuracy: 1.0000\n",
            "Epoch 47: val_loss did not improve from 0.01227\n",
            "11/11 [==============================] - 0s 9ms/step - loss: 0.0101 - accuracy: 1.0000 - val_loss: 0.0276 - val_accuracy: 0.9884\n",
            "Epoch 48/100\n",
            " 9/11 [=======================>......] - ETA: 0s - loss: 0.0100 - accuracy: 1.0000\n",
            "Epoch 48: val_loss did not improve from 0.01227\n",
            "11/11 [==============================] - 0s 10ms/step - loss: 0.0096 - accuracy: 1.0000 - val_loss: 0.0321 - val_accuracy: 0.9884\n",
            "Epoch 49/100\n",
            "10/11 [==========================>...] - ETA: 0s - loss: 0.0089 - accuracy: 1.0000\n",
            "Epoch 49: val_loss did not improve from 0.01227\n",
            "11/11 [==============================] - 0s 11ms/step - loss: 0.0089 - accuracy: 1.0000 - val_loss: 0.0260 - val_accuracy: 0.9884\n",
            "Epoch 50/100\n",
            "11/11 [==============================] - ETA: 0s - loss: 0.0087 - accuracy: 1.0000\n",
            "Epoch 50: val_loss did not improve from 0.01227\n",
            "11/11 [==============================] - 0s 9ms/step - loss: 0.0087 - accuracy: 1.0000 - val_loss: 0.0275 - val_accuracy: 0.9884\n",
            "Epoch 51/100\n",
            "11/11 [==============================] - ETA: 0s - loss: 0.0082 - accuracy: 1.0000\n",
            "Epoch 51: val_loss did not improve from 0.01227\n",
            "11/11 [==============================] - 0s 9ms/step - loss: 0.0082 - accuracy: 1.0000 - val_loss: 0.0243 - val_accuracy: 0.9884\n",
            "Epoch 52/100\n",
            "11/11 [==============================] - ETA: 0s - loss: 0.0079 - accuracy: 1.0000\n",
            "Epoch 52: val_loss did not improve from 0.01227\n",
            "11/11 [==============================] - 0s 9ms/step - loss: 0.0079 - accuracy: 1.0000 - val_loss: 0.0225 - val_accuracy: 0.9884\n",
            "Epoch 53/100\n",
            " 9/11 [=======================>......] - ETA: 0s - loss: 0.0082 - accuracy: 1.0000\n",
            "Epoch 53: val_loss did not improve from 0.01227\n",
            "11/11 [==============================] - 0s 9ms/step - loss: 0.0080 - accuracy: 1.0000 - val_loss: 0.0253 - val_accuracy: 0.9884\n",
            "Epoch 54/100\n",
            "11/11 [==============================] - ETA: 0s - loss: 0.0076 - accuracy: 1.0000\n",
            "Epoch 54: val_loss did not improve from 0.01227\n",
            "11/11 [==============================] - 0s 10ms/step - loss: 0.0076 - accuracy: 1.0000 - val_loss: 0.0186 - val_accuracy: 0.9884\n",
            "Epoch 55/100\n",
            " 1/11 [=>............................] - ETA: 0s - loss: 0.0080 - accuracy: 1.0000\n",
            "Epoch 55: val_loss did not improve from 0.01227\n",
            "11/11 [==============================] - 0s 7ms/step - loss: 0.0082 - accuracy: 1.0000 - val_loss: 0.0265 - val_accuracy: 0.9884\n",
            "Epoch 56/100\n",
            "10/11 [==========================>...] - ETA: 0s - loss: 0.0078 - accuracy: 1.0000\n",
            "Epoch 56: val_loss did not improve from 0.01227\n",
            "11/11 [==============================] - 0s 9ms/step - loss: 0.0077 - accuracy: 1.0000 - val_loss: 0.0195 - val_accuracy: 0.9884\n",
            "Epoch 57/100\n",
            " 1/11 [=>............................] - ETA: 0s - loss: 0.0059 - accuracy: 1.0000\n",
            "Epoch 57: val_loss did not improve from 0.01227\n",
            "11/11 [==============================] - 0s 8ms/step - loss: 0.0076 - accuracy: 1.0000 - val_loss: 0.0272 - val_accuracy: 0.9884\n",
            "Epoch 58/100\n",
            "11/11 [==============================] - ETA: 0s - loss: 0.0066 - accuracy: 1.0000\n",
            "Epoch 58: val_loss did not improve from 0.01227\n",
            "11/11 [==============================] - 0s 10ms/step - loss: 0.0066 - accuracy: 1.0000 - val_loss: 0.0163 - val_accuracy: 0.9884\n",
            "Epoch 59/100\n",
            "10/11 [==========================>...] - ETA: 0s - loss: 0.0061 - accuracy: 1.0000\n",
            "Epoch 59: val_loss did not improve from 0.01227\n",
            "11/11 [==============================] - 0s 10ms/step - loss: 0.0067 - accuracy: 1.0000 - val_loss: 0.0208 - val_accuracy: 0.9884\n",
            "Epoch 60/100\n",
            "11/11 [==============================] - ETA: 0s - loss: 0.0072 - accuracy: 1.0000\n",
            "Epoch 60: val_loss did not improve from 0.01227\n",
            "11/11 [==============================] - 0s 8ms/step - loss: 0.0072 - accuracy: 1.0000 - val_loss: 0.0156 - val_accuracy: 1.0000\n",
            "Epoch 61/100\n",
            "11/11 [==============================] - ETA: 0s - loss: 0.0068 - accuracy: 1.0000\n",
            "Epoch 61: val_loss did not improve from 0.01227\n",
            "11/11 [==============================] - 0s 10ms/step - loss: 0.0068 - accuracy: 1.0000 - val_loss: 0.0165 - val_accuracy: 0.9884\n",
            "Epoch 62/100\n",
            "10/11 [==========================>...] - ETA: 0s - loss: 0.0061 - accuracy: 1.0000\n",
            "Epoch 62: val_loss did not improve from 0.01227\n",
            "11/11 [==============================] - 0s 9ms/step - loss: 0.0061 - accuracy: 1.0000 - val_loss: 0.0232 - val_accuracy: 0.9884\n",
            "Epoch 63/100\n",
            "11/11 [==============================] - ETA: 0s - loss: 0.0059 - accuracy: 1.0000\n",
            "Epoch 63: val_loss did not improve from 0.01227\n",
            "11/11 [==============================] - 0s 8ms/step - loss: 0.0059 - accuracy: 1.0000 - val_loss: 0.0188 - val_accuracy: 0.9884\n",
            "Epoch 64/100\n",
            "11/11 [==============================] - ETA: 0s - loss: 0.0060 - accuracy: 1.0000\n",
            "Epoch 64: val_loss did not improve from 0.01227\n",
            "11/11 [==============================] - 0s 9ms/step - loss: 0.0060 - accuracy: 1.0000 - val_loss: 0.0222 - val_accuracy: 0.9884\n",
            "Epoch 65/100\n",
            "11/11 [==============================] - ETA: 0s - loss: 0.0062 - accuracy: 1.0000\n",
            "Epoch 65: val_loss did not improve from 0.01227\n",
            "11/11 [==============================] - 0s 9ms/step - loss: 0.0062 - accuracy: 1.0000 - val_loss: 0.0135 - val_accuracy: 1.0000\n",
            "Epoch 66/100\n",
            " 1/11 [=>............................] - ETA: 0s - loss: 0.0048 - accuracy: 1.0000\n",
            "Epoch 66: val_loss did not improve from 0.01227\n",
            "11/11 [==============================] - 0s 8ms/step - loss: 0.0060 - accuracy: 1.0000 - val_loss: 0.0298 - val_accuracy: 0.9884\n",
            "Epoch 67/100\n",
            "10/11 [==========================>...] - ETA: 0s - loss: 0.0058 - accuracy: 1.0000\n",
            "Epoch 67: val_loss did not improve from 0.01227\n",
            "11/11 [==============================] - 0s 11ms/step - loss: 0.0057 - accuracy: 1.0000 - val_loss: 0.0207 - val_accuracy: 0.9884\n",
            "Epoch 68/100\n",
            " 1/11 [=>............................] - ETA: 0s - loss: 0.0052 - accuracy: 1.0000\n",
            "Epoch 68: val_loss did not improve from 0.01227\n",
            "11/11 [==============================] - 0s 8ms/step - loss: 0.0053 - accuracy: 1.0000 - val_loss: 0.0214 - val_accuracy: 0.9884\n",
            "Epoch 69/100\n",
            "10/11 [==========================>...] - ETA: 0s - loss: 0.0055 - accuracy: 1.0000\n",
            "Epoch 69: val_loss did not improve from 0.01227\n",
            "11/11 [==============================] - 0s 10ms/step - loss: 0.0055 - accuracy: 1.0000 - val_loss: 0.0181 - val_accuracy: 0.9884\n",
            "Epoch 70/100\n",
            " 9/11 [=======================>......] - ETA: 0s - loss: 0.0048 - accuracy: 1.0000\n",
            "Epoch 70: val_loss did not improve from 0.01227\n",
            "11/11 [==============================] - 0s 12ms/step - loss: 0.0052 - accuracy: 1.0000 - val_loss: 0.0187 - val_accuracy: 0.9884\n",
            "Epoch 71/100\n",
            " 8/11 [====================>.........] - ETA: 0s - loss: 0.0052 - accuracy: 1.0000\n",
            "Epoch 71: val_loss did not improve from 0.01227\n",
            "11/11 [==============================] - 0s 11ms/step - loss: 0.0050 - accuracy: 1.0000 - val_loss: 0.0201 - val_accuracy: 0.9884\n",
            "Epoch 72/100\n",
            " 9/11 [=======================>......] - ETA: 0s - loss: 0.0051 - accuracy: 1.0000\n",
            "Epoch 72: val_loss did not improve from 0.01227\n",
            "11/11 [==============================] - 0s 10ms/step - loss: 0.0049 - accuracy: 1.0000 - val_loss: 0.0165 - val_accuracy: 0.9884\n",
            "Epoch 73/100\n",
            "10/11 [==========================>...] - ETA: 0s - loss: 0.0048 - accuracy: 1.0000\n",
            "Epoch 73: val_loss did not improve from 0.01227\n",
            "11/11 [==============================] - 0s 10ms/step - loss: 0.0047 - accuracy: 1.0000 - val_loss: 0.0177 - val_accuracy: 0.9884\n",
            "Epoch 74/100\n",
            " 9/11 [=======================>......] - ETA: 0s - loss: 0.0048 - accuracy: 1.0000\n",
            "Epoch 74: val_loss did not improve from 0.01227\n",
            "11/11 [==============================] - 0s 12ms/step - loss: 0.0048 - accuracy: 1.0000 - val_loss: 0.0220 - val_accuracy: 0.9884\n",
            "Epoch 75/100\n",
            "10/11 [==========================>...] - ETA: 0s - loss: 0.0047 - accuracy: 1.0000\n",
            "Epoch 75: val_loss did not improve from 0.01227\n",
            "11/11 [==============================] - 0s 12ms/step - loss: 0.0047 - accuracy: 1.0000 - val_loss: 0.0179 - val_accuracy: 0.9884\n",
            "Epoch 76/100\n",
            " 8/11 [====================>.........] - ETA: 0s - loss: 0.0047 - accuracy: 1.0000\n",
            "Epoch 76: val_loss did not improve from 0.01227\n",
            "11/11 [==============================] - 0s 10ms/step - loss: 0.0045 - accuracy: 1.0000 - val_loss: 0.0147 - val_accuracy: 0.9884\n",
            "Epoch 77/100\n",
            "10/11 [==========================>...] - ETA: 0s - loss: 0.0044 - accuracy: 1.0000\n",
            "Epoch 77: val_loss did not improve from 0.01227\n",
            "11/11 [==============================] - 0s 10ms/step - loss: 0.0046 - accuracy: 1.0000 - val_loss: 0.0225 - val_accuracy: 0.9884\n",
            "Epoch 78/100\n",
            " 8/11 [====================>.........] - ETA: 0s - loss: 0.0044 - accuracy: 1.0000\n",
            "Epoch 78: val_loss did not improve from 0.01227\n",
            "11/11 [==============================] - 0s 11ms/step - loss: 0.0045 - accuracy: 1.0000 - val_loss: 0.0216 - val_accuracy: 0.9884\n",
            "Epoch 79/100\n",
            "10/11 [==========================>...] - ETA: 0s - loss: 0.0045 - accuracy: 1.0000\n",
            "Epoch 79: val_loss did not improve from 0.01227\n",
            "11/11 [==============================] - 0s 11ms/step - loss: 0.0044 - accuracy: 1.0000 - val_loss: 0.0182 - val_accuracy: 0.9884\n",
            "Epoch 80/100\n",
            "11/11 [==============================] - ETA: 0s - loss: 0.0044 - accuracy: 1.0000\n",
            "Epoch 80: val_loss did not improve from 0.01227\n",
            "11/11 [==============================] - 0s 9ms/step - loss: 0.0044 - accuracy: 1.0000 - val_loss: 0.0161 - val_accuracy: 0.9884\n",
            "Epoch 81/100\n",
            "10/11 [==========================>...] - ETA: 0s - loss: 0.0043 - accuracy: 1.0000\n",
            "Epoch 81: val_loss did not improve from 0.01227\n",
            "11/11 [==============================] - 0s 11ms/step - loss: 0.0043 - accuracy: 1.0000 - val_loss: 0.0269 - val_accuracy: 0.9884\n",
            "Epoch 82/100\n",
            " 7/11 [==================>...........] - ETA: 0s - loss: 0.0041 - accuracy: 1.0000\n",
            "Epoch 82: val_loss did not improve from 0.01227\n",
            "11/11 [==============================] - 0s 14ms/step - loss: 0.0043 - accuracy: 1.0000 - val_loss: 0.0143 - val_accuracy: 0.9884\n",
            "Epoch 83/100\n",
            " 9/11 [=======================>......] - ETA: 0s - loss: 0.0041 - accuracy: 1.0000\n",
            "Epoch 83: val_loss did not improve from 0.01227\n",
            "11/11 [==============================] - 0s 11ms/step - loss: 0.0040 - accuracy: 1.0000 - val_loss: 0.0156 - val_accuracy: 0.9884\n",
            "Epoch 84/100\n",
            "10/11 [==========================>...] - ETA: 0s - loss: 0.0040 - accuracy: 1.0000\n",
            "Epoch 84: val_loss did not improve from 0.01227\n",
            "11/11 [==============================] - 0s 10ms/step - loss: 0.0040 - accuracy: 1.0000 - val_loss: 0.0168 - val_accuracy: 0.9884\n",
            "Epoch 85/100\n",
            " 9/11 [=======================>......] - ETA: 0s - loss: 0.0040 - accuracy: 1.0000\n",
            "Epoch 85: val_loss did not improve from 0.01227\n",
            "11/11 [==============================] - 0s 10ms/step - loss: 0.0039 - accuracy: 1.0000 - val_loss: 0.0143 - val_accuracy: 0.9884\n",
            "Epoch 86/100\n",
            "10/11 [==========================>...] - ETA: 0s - loss: 0.0038 - accuracy: 1.0000\n",
            "Epoch 86: val_loss did not improve from 0.01227\n",
            "11/11 [==============================] - 0s 9ms/step - loss: 0.0040 - accuracy: 1.0000 - val_loss: 0.0256 - val_accuracy: 0.9884\n",
            "Epoch 87/100\n",
            " 9/11 [=======================>......] - ETA: 0s - loss: 0.0043 - accuracy: 1.0000\n",
            "Epoch 87: val_loss improved from 0.01227 to 0.00869, saving model to weights.h5\n",
            "11/11 [==============================] - 0s 14ms/step - loss: 0.0042 - accuracy: 1.0000 - val_loss: 0.0087 - val_accuracy: 1.0000\n",
            "Epoch 88/100\n",
            "11/11 [==============================] - ETA: 0s - loss: 0.0041 - accuracy: 1.0000\n",
            "Epoch 88: val_loss did not improve from 0.00869\n",
            "11/11 [==============================] - 0s 9ms/step - loss: 0.0041 - accuracy: 1.0000 - val_loss: 0.0238 - val_accuracy: 0.9884\n",
            "Epoch 89/100\n",
            " 9/11 [=======================>......] - ETA: 0s - loss: 0.0039 - accuracy: 1.0000\n",
            "Epoch 89: val_loss did not improve from 0.00869\n",
            "11/11 [==============================] - 0s 11ms/step - loss: 0.0039 - accuracy: 1.0000 - val_loss: 0.0153 - val_accuracy: 0.9884\n",
            "Epoch 90/100\n",
            " 8/11 [====================>.........] - ETA: 0s - loss: 0.0040 - accuracy: 1.0000\n",
            "Epoch 90: val_loss did not improve from 0.00869\n",
            "11/11 [==============================] - 0s 10ms/step - loss: 0.0038 - accuracy: 1.0000 - val_loss: 0.0229 - val_accuracy: 0.9884\n",
            "Epoch 91/100\n",
            "10/11 [==========================>...] - ETA: 0s - loss: 0.0039 - accuracy: 1.0000\n",
            "Epoch 91: val_loss did not improve from 0.00869\n",
            "11/11 [==============================] - 0s 11ms/step - loss: 0.0042 - accuracy: 1.0000 - val_loss: 0.0117 - val_accuracy: 1.0000\n",
            "Epoch 92/100\n",
            "10/11 [==========================>...] - ETA: 0s - loss: 0.0045 - accuracy: 1.0000\n",
            "Epoch 92: val_loss improved from 0.00869 to 0.00633, saving model to weights.h5\n",
            "11/11 [==============================] - 0s 13ms/step - loss: 0.0044 - accuracy: 1.0000 - val_loss: 0.0063 - val_accuracy: 1.0000\n",
            "Epoch 93/100\n",
            " 9/11 [=======================>......] - ETA: 0s - loss: 0.0044 - accuracy: 1.0000\n",
            "Epoch 93: val_loss did not improve from 0.00633\n",
            "11/11 [==============================] - 0s 9ms/step - loss: 0.0044 - accuracy: 1.0000 - val_loss: 0.0216 - val_accuracy: 0.9884\n",
            "Epoch 94/100\n",
            " 9/11 [=======================>......] - ETA: 0s - loss: 0.0038 - accuracy: 1.0000\n",
            "Epoch 94: val_loss did not improve from 0.00633\n",
            "11/11 [==============================] - 0s 10ms/step - loss: 0.0038 - accuracy: 1.0000 - val_loss: 0.0208 - val_accuracy: 0.9884\n",
            "Epoch 95/100\n",
            " 1/11 [=>............................] - ETA: 0s - loss: 0.0030 - accuracy: 1.0000\n",
            "Epoch 95: val_loss did not improve from 0.00633\n",
            "11/11 [==============================] - 0s 8ms/step - loss: 0.0036 - accuracy: 1.0000 - val_loss: 0.0184 - val_accuracy: 0.9884\n",
            "Epoch 96/100\n",
            " 1/11 [=>............................] - ETA: 0s - loss: 0.0040 - accuracy: 1.0000\n",
            "Epoch 96: val_loss did not improve from 0.00633\n",
            "11/11 [==============================] - 0s 8ms/step - loss: 0.0036 - accuracy: 1.0000 - val_loss: 0.0245 - val_accuracy: 0.9884\n",
            "Epoch 97/100\n",
            " 1/11 [=>............................] - ETA: 0s - loss: 0.0045 - accuracy: 1.0000\n",
            "Epoch 97: val_loss did not improve from 0.00633\n",
            "11/11 [==============================] - 0s 8ms/step - loss: 0.0037 - accuracy: 1.0000 - val_loss: 0.0077 - val_accuracy: 1.0000\n",
            "Epoch 98/100\n",
            " 9/11 [=======================>......] - ETA: 0s - loss: 0.0036 - accuracy: 1.0000\n",
            "Epoch 98: val_loss did not improve from 0.00633\n",
            "11/11 [==============================] - 0s 9ms/step - loss: 0.0036 - accuracy: 1.0000 - val_loss: 0.0443 - val_accuracy: 0.9884\n",
            "Epoch 99/100\n",
            "11/11 [==============================] - ETA: 0s - loss: 0.0037 - accuracy: 1.0000\n",
            "Epoch 99: val_loss did not improve from 0.00633\n",
            "11/11 [==============================] - 0s 8ms/step - loss: 0.0037 - accuracy: 1.0000 - val_loss: 0.0247 - val_accuracy: 0.9884\n",
            "Epoch 100/100\n",
            "11/11 [==============================] - ETA: 0s - loss: 0.0043 - accuracy: 1.0000\n",
            "Epoch 100: val_loss did not improve from 0.00633\n",
            "11/11 [==============================] - 0s 9ms/step - loss: 0.0043 - accuracy: 1.0000 - val_loss: 0.0316 - val_accuracy: 0.9884\n",
            "5/5 [==============================] - 0s 4ms/step - loss: 0.1899 - accuracy: 0.9580\n",
            "[0.18986497819423676, 0.9580419659614563]\n",
            "['loss', 'accuracy']\n"
          ]
        }
      ]
    },
    {
      "cell_type": "markdown",
      "source": [
        "## Save the Model"
      ],
      "metadata": {
        "id": "y-3ZF4ApHU9L"
      }
    },
    {
      "cell_type": "code",
      "source": [
        "ann.save('ann.h5')"
      ],
      "metadata": {
        "id": "LCn57oYEHZ7R"
      },
      "execution_count": 41,
      "outputs": []
    },
    {
      "cell_type": "markdown",
      "source": [],
      "metadata": {
        "id": "YrfunaHzD9hZ"
      }
    },
    {
      "cell_type": "markdown",
      "source": [
        "## Model Evaluation"
      ],
      "metadata": {
        "id": "yPGqqglfH8WL"
      }
    },
    {
      "cell_type": "code",
      "source": [
        "y_pred_ann = ann.predict(x_test)\n",
        "y_pred_ann = (y_pred_ann > 0.5)\n",
        "cm = confusion_matrix(y_test, y_pred_ann)\n",
        "print(\"Accuracy: \" ,accuracy_score(y_test, y_pred_ann)*100)"
      ],
      "metadata": {
        "colab": {
          "base_uri": "https://localhost:8080/"
        },
        "id": "xJywYMnSIAe8",
        "outputId": "7d85e092-7961-4b5d-fc25-18d559403f5c"
      },
      "execution_count": 46,
      "outputs": [
        {
          "output_type": "stream",
          "name": "stdout",
          "text": [
            "5/5 [==============================] - 0s 3ms/step\n",
            "Accuracy:  95.8041958041958\n"
          ]
        }
      ]
    },
    {
      "cell_type": "markdown",
      "source": [
        "## Accuracy Plots"
      ],
      "metadata": {
        "id": "VuG10U4AI4ux"
      }
    },
    {
      "cell_type": "code",
      "source": [
        "plt.plot(historic.history['accuracy'])\n",
        "plt.plot(historic.history['val_accuracy'])\n",
        "plt.title('ann accuracy')\n",
        "plt.ylabel('accuracy')\n",
        "plt.xlabel('epoch')\n",
        "plt.legend(['train', 'validation'], loc='upper left')\n",
        "plt.show()"
      ],
      "metadata": {
        "colab": {
          "base_uri": "https://localhost:8080/",
          "height": 295
        },
        "id": "4FNuftU8I7PH",
        "outputId": "8cc58913-5c79-4a6e-ed0b-1f8465ce3686"
      },
      "execution_count": 47,
      "outputs": [
        {
          "output_type": "display_data",
          "data": {
            "text/plain": [
              "<Figure size 432x288 with 1 Axes>"
            ],
            "image/png": "[encoded data removed]"
          },
          "metadata": {
            "needs_background": "light"
          }
        }
      ]
    },
    {
      "cell_type": "markdown",
      "source": [
        "## Loss Plots"
      ],
      "metadata": {
        "id": "_HyQ4ZqXJKQB"
      }
    },
    {
      "cell_type": "code",
      "source": [
        "plt.plot(historic.history['loss'])\n",
        "plt.plot(historic.history['val_loss'])\n",
        "plt.title('ann loss')\n",
        "plt.ylabel('loss')\n",
        "plt.xlabel('epoch')\n",
        "plt.legend(['train', 'validation'], loc='upper left')\n",
        "plt.show()"
      ],
      "metadata": {
        "colab": {
          "base_uri": "https://localhost:8080/",
          "height": 295
        },
        "id": "K241NHqeJL83",
        "outputId": "cfdb2143-6f5c-4d70-c6c5-573f7ca69975"
      },
      "execution_count": 48,
      "outputs": [
        {
          "output_type": "display_data",
          "data": {
            "text/plain": [
              "<Figure size 432x288 with 1 Axes>"
            ],
            "image/png": "[encoded data removed]"
          },
          "metadata": {
            "needs_background": "light"
          }
        }
      ]
    },
    {
      "cell_type": "markdown",
      "source": [
        "## Seaborn Confusion Matrix"
      ],
      "metadata": {
        "id": "GlIa1aSxJkSC"
      }
    },
    {
      "cell_type": "code",
      "source": [
        "group_names = ['True Neg','False Pos','False Neg','True Pos']\n",
        "\n",
        "group_counts = [\"{0:0.0f}\".format(value) for value in cm.flatten()]\n",
        "\n",
        "group_percentages = [\"{0:.2%}\".format(value) for value in cm.flatten()/np.sum(cm)]\n",
        "\n",
        "labels = [f\"{v1}\\n{v2}\\n{v3}\" for v1, v2, v3 in zip(group_names,group_counts,group_percentages)]\n",
        "\n",
        "labels = np.asarray(labels).reshape(2,2)\n",
        "\n",
        "ax = sns.heatmap(cm, annot=labels, fmt='', cmap='Blues')\n",
        "\n",
        "ax.set_title('Seaborn Confusion Matrix with labels\\n\\n')\n",
        "ax.set_xlabel('\\nPredicted Values')\n",
        "ax.set_ylabel('Actual Values ')\n",
        "\n",
        "ax.xaxis.set_ticklabels(['AbNormal','Normal'])\n",
        "ax.yaxis.set_ticklabels(['AbNormal','Normal'])\n",
        "plt.show()"
      ],
      "metadata": {
        "colab": {
          "base_uri": "https://localhost:8080/",
          "height": 337
        },
        "id": "2mF_msdHJnyx",
        "outputId": "fa001790-cd52-4855-c4da-e796f770ef85"
      },
      "execution_count": 49,
      "outputs": [
        {
          "output_type": "display_data",
          "data": {
            "text/plain": [
              "<Figure size 432x288 with 2 Axes>"
            ],
            "image/png": "[encoded data removed]"
          },
          "metadata": {
            "needs_background": "light"
          }
        }
      ]
    },
    {
      "cell_type": "markdown",
      "source": [
        "## Ploting Learning Curves"
      ],
      "metadata": {
        "id": "0Gw3PhbfJ9M4"
      }
    },
    {
      "cell_type": "markdown",
      "source": [
        "### Ploting for Training Data"
      ],
      "metadata": {
        "id": "pqwOd6pSKHLX"
      }
    },
    {
      "cell_type": "code",
      "source": [
        "train_sizes, train_scores, test_scores = learning_curve(RandomForestClassifier(), x_train, y_train, cv=10, scoring='accuracy', n_jobs=-1, train_sizes=np.linspace(0.01, 1.0, 50))\n",
        "\n",
        "train_mean = np.mean(train_scores, axis=1)\n",
        "train_std = np.std(train_scores, axis=1)\n",
        "\n",
        "test_mean = np.mean(test_scores, axis=1)\n",
        "test_std = np.std(test_scores, axis=1)\n",
        "\n",
        "plt.subplots(1, figsize=(10,10))\n",
        "plt.plot(train_sizes, train_mean, '--', color=\"#111111\",  label=\"Training score\")\n",
        "plt.plot(train_sizes, test_mean, color=\"#111111\", label=\"Cross-validation score\")\n",
        "\n",
        "plt.fill_between(train_sizes, train_mean - train_std, train_mean + train_std, color=\"#DDDDDD\")\n",
        "plt.fill_between(train_sizes, test_mean - test_std, test_mean + test_std, color=\"#DDDDDD\")\n",
        "\n",
        "plt.title(\"Learning Curve\")\n",
        "plt.xlabel(\"Training Set Size\"), plt.ylabel(\"Accuracy Score\"), plt.legend(loc=\"best\")\n",
        "plt.tight_layout()\n",
        "plt.show()"
      ],
      "metadata": {
        "colab": {
          "base_uri": "https://localhost:8080/",
          "height": 729
        },
        "id": "tFhTPskKKLwQ",
        "outputId": "86a4619e-1a03-4e12-de09-fc4daf010eef"
      },
      "execution_count": 52,
      "outputs": [
        {
          "output_type": "display_data",
          "data": {
            "text/plain": [
              "<Figure size 720x720 with 1 Axes>"
            ],
            "image/png": "[encoded data removed]"
          },
          "metadata": {
            "needs_background": "light"
          }
        }
      ]
    },
    {
      "cell_type": "markdown",
      "source": [
        "### Ploting for Testing Data"
      ],
      "metadata": {
        "id": "JWP_N8gbK4v7"
      }
    },
    {
      "cell_type": "code",
      "source": [
        "train_sizes, train_scores, test_scores = learning_curve(RandomForestClassifier(), x_test, y_test, cv=10, scoring='accuracy', n_jobs=-1, train_sizes=np.linspace(0.01, 1.0, 50))\n",
        "\n",
        "train_mean = np.mean(train_scores, axis=1)\n",
        "train_std = np.std(train_scores, axis=1)\n",
        "\n",
        "test_mean = np.mean(test_scores, axis=1)\n",
        "test_std = np.std(test_scores, axis=1)\n",
        "\n",
        "plt.subplots(1, figsize=(10,10))\n",
        "plt.plot(train_sizes, train_mean, '--', color=\"#111111\",  label=\"Training score\")\n",
        "plt.plot(train_sizes, test_mean, color=\"#111111\", label=\"Cross-validation score\")\n",
        "\n",
        "plt.fill_between(train_sizes, train_mean - train_std, train_mean + train_std, color=\"#DDDDDD\")\n",
        "plt.fill_between(train_sizes, test_mean - test_std, test_mean + test_std, color=\"#DDDDDD\")\n",
        "\n",
        "plt.title(\"Learning Curve\")\n",
        "plt.xlabel(\"Training Set Size\"), plt.ylabel(\"Accuracy Score\"), plt.legend(loc=\"best\")\n",
        "plt.tight_layout()\n",
        "plt.show()"
      ],
      "metadata": {
        "colab": {
          "base_uri": "https://localhost:8080/",
          "height": 729
        },
        "id": "YXBfnt80K7Pl",
        "outputId": "f3ba8ad7-46cb-4f9b-be8e-07556c9f619c"
      },
      "execution_count": 53,
      "outputs": [
        {
          "output_type": "display_data",
          "data": {
            "text/plain": [
              "<Figure size 720x720 with 1 Axes>"
            ],
            "image/png": "[encoded data removed]"
          },
          "metadata": {
            "needs_background": "light"
          }
        }
      ]
    },
    {
      "cell_type": "markdown",
      "source": [
        "### Ploting for normal data"
      ],
      "metadata": {
        "id": "i7SkUegPLgVS"
      }
    },
    {
      "cell_type": "code",
      "source": [
        "train_sizes, train_scores, test_scores = learning_curve(RandomForestClassifier(), x, y, cv=10, scoring='accuracy', n_jobs=-1, train_sizes=np.linspace(0.01, 1.0, 50))\n",
        "\n",
        "train_mean = np.mean(train_scores, axis=1)\n",
        "train_std = np.std(train_scores, axis=1)\n",
        "\n",
        "test_mean = np.mean(test_scores, axis=1)\n",
        "test_std = np.std(test_scores, axis=1)\n",
        "\n",
        "plt.subplots(1, figsize=(10,10))\n",
        "plt.plot(train_sizes, train_mean, '--', color=\"#111111\",  label=\"Training score\")\n",
        "plt.plot(train_sizes, test_mean, color=\"#111111\", label=\"Cross-validation score\")\n",
        "\n",
        "plt.fill_between(train_sizes, train_mean - train_std, train_mean + train_std, color=\"#DDDDDD\")\n",
        "plt.fill_between(train_sizes, test_mean - test_std, test_mean + test_std, color=\"#DDDDDD\")\n",
        "\n",
        "plt.title(\"Learning Curve\")\n",
        "plt.xlabel(\"Training Set Size\"), plt.ylabel(\"Accuracy Score\"), plt.legend(loc=\"best\")\n",
        "plt.tight_layout()\n",
        "plt.show()"
      ],
      "metadata": {
        "colab": {
          "base_uri": "https://localhost:8080/",
          "height": 729
        },
        "id": "r7UVd13DLkbt",
        "outputId": "2b8d4e14-190b-4829-c75f-57cc6466615e"
      },
      "execution_count": 54,
      "outputs": [
        {
          "output_type": "display_data",
          "data": {
            "text/plain": [
              "<Figure size 720x720 with 1 Axes>"
            ],
            "image/png": "[encoded data removed]"
          },
          "metadata": {
            "needs_background": "light"
          }
        }
      ]
    },
    {
      "cell_type": "markdown",
      "source": [
        "# **3. SVM**"
      ],
      "metadata": {
        "id": "BJ2yd6neMLJn"
      }
    },
    {
      "cell_type": "markdown",
      "source": [
        "## Model Training"
      ],
      "metadata": {
        "id": "-Z0Du8cxNrUE"
      }
    },
    {
      "cell_type": "code",
      "source": [
        "from sklearn import svm\n",
        "from sklearn.svm import SVC\n",
        "\n",
        "classifier = svm.SVC(kernel='linear')\n",
        "classifier.fit(x_train, y_train)"
      ],
      "metadata": {
        "colab": {
          "base_uri": "https://localhost:8080/"
        },
        "id": "gfg0IC35MOiC",
        "outputId": "cc6c76eb-c4d6-4e6f-ce27-8953ca4eb9eb"
      },
      "execution_count": 59,
      "outputs": [
        {
          "output_type": "execute_result",
          "data": {
            "text/plain": [
              "SVC(kernel='linear')"
            ]
          },
          "metadata": {},
          "execution_count": 59
        }
      ]
    },
    {
      "cell_type": "markdown",
      "source": [
        "## Model Evaluation"
      ],
      "metadata": {
        "id": "lLsC1NSxN54B"
      }
    },
    {
      "cell_type": "code",
      "source": [
        "# Accuracy Score of Training Data\n",
        "x_train_predict=model.predict(x_train)\n",
        "train_accuracy=accuracy_score(y_train,x_train_predict)\n",
        "print(\"Accuracy for training dataset ->\", train_accuracy*100)"
      ],
      "metadata": {
        "colab": {
          "base_uri": "https://localhost:8080/"
        },
        "id": "xv_mXj5-NvvO",
        "outputId": "02b25957-c39e-48ca-a0a1-0c2646c4b0e7"
      },
      "execution_count": 60,
      "outputs": [
        {
          "output_type": "stream",
          "name": "stdout",
          "text": [
            "Accuracy for training dataset -> 98.82629107981221\n"
          ]
        }
      ]
    },
    {
      "cell_type": "code",
      "source": [
        "# Accuracy Score of Testing Data\n",
        "x_test_predict = model.predict(x_test)\n",
        "test_data_accuracy = accuracy_score(y_test, x_test_predict)\n",
        "print(\"Accuracy for testing dataset ->\", test_data_accuracy*100)"
      ],
      "metadata": {
        "colab": {
          "base_uri": "https://localhost:8080/"
        },
        "id": "Ohu6lA2cOMPK",
        "outputId": "1974436c-d016-4bbd-e648-f56188451fae"
      },
      "execution_count": 61,
      "outputs": [
        {
          "output_type": "stream",
          "name": "stdout",
          "text": [
            "Accuracy for testing dataset -> 97.2027972027972\n"
          ]
        }
      ]
    },
    {
      "cell_type": "markdown",
      "source": [
        "## Seaborn Confusion Matrix"
      ],
      "metadata": {
        "id": "-RP8LHAmOiZR"
      }
    },
    {
      "cell_type": "code",
      "source": [
        "y_pred_svm = classifier.predict(x_test)\n",
        "y_pred_svm = (y_pred_svm > 0.5)\n",
        "y_pred_svm = classifier.predict(x_test)\n",
        "cm_svm = confusion_matrix(y_test, y_pred_svm)\n",
        "\n",
        "group_names = ['True Neg','False Pos','False Neg','True Pos']\n",
        "\n",
        "group_counts = [\"{0:0.0f}\".format(value) for value in\n",
        "                cm_svm.flatten()]\n",
        "\n",
        "group_percentages = [\"{0:.2%}\".format(value) for value in\n",
        "                     cm_svm.flatten()/np.sum(cm_svm)]\n",
        "\n",
        "labels = [f\"{v1}\\n{v2}\\n{v3}\" for v1, v2, v3 in\n",
        "          zip(group_names,group_counts,group_percentages)]\n",
        "\n",
        "labels = np.asarray(labels).reshape(2,2)\n",
        "\n",
        "ax = sns.heatmap(cm_svm, annot=labels, fmt='', cmap='Blues')\n",
        "\n",
        "ax.set_title('Seaborn Confusion Matrix with labels\\n\\n');\n",
        "ax.set_xlabel('\\nPredicted Values')\n",
        "ax.set_ylabel('Actual Values ');\n",
        "\n",
        "ax.xaxis.set_ticklabels(['Abnormal','Normal'])\n",
        "ax.yaxis.set_ticklabels(['Abnormal','Normal'])\n",
        "\n",
        "plt.show()"
      ],
      "metadata": {
        "colab": {
          "base_uri": "https://localhost:8080/",
          "height": 337
        },
        "id": "INPyTvXpOmBm",
        "outputId": "df86a17a-7f73-439d-968f-cc97f0518cd8"
      },
      "execution_count": 63,
      "outputs": [
        {
          "output_type": "display_data",
          "data": {
            "text/plain": [
              "<Figure size 432x288 with 2 Axes>"
            ],
            "image/png": "[encoded data removed]"
          },
          "metadata": {
            "needs_background": "light"
          }
        }
      ]
    },
    {
      "cell_type": "markdown",
      "source": [
        "## Ploing"
      ],
      "metadata": {
        "id": "vivUoaBAPAex"
      }
    },
    {
      "cell_type": "code",
      "source": [
        "from sklearn.metrics import roc_curve\n",
        "from sklearn.metrics import auc\n",
        "\n",
        "fpr_ann, tpr_ann, thresholds_ann = roc_curve(y_test, y_pred_ann)\n",
        "fpr_svm, tpr_svm, thresholds_svm = roc_curve(y_test, y_pred_svm)\n",
        "\n",
        "auc_ann = auc(fpr_ann, tpr_ann)\n",
        "auc_svm = auc(fpr_svm, tpr_svm)\n",
        "\n",
        "plt.figure(1)\n",
        "plt.plot([0, 1], [0, 1], 'k--')\n",
        "plt.plot(fpr_ann, tpr_ann, label='ann (area = {:.3f})'.format(auc_ann))\n",
        "plt.plot(fpr_svm, tpr_svm, label='svm (area = {:.3f})'.format(auc_svm))\n",
        "plt.xlabel('False positive rate')\n",
        "plt.ylabel('True positive rate')\n",
        "plt.title('ROC curve')\n",
        "plt.legend(loc='best')\n",
        "plt.show()\n",
        "print(\"\\n\")\n",
        "\n",
        "plt.figure(2)\n",
        "plt.xlim(0, 0.2)\n",
        "plt.ylim(0.8, 1)\n",
        "plt.plot([0, 1], [0, 1], 'k--')\n",
        "plt.plot(fpr_ann, tpr_ann, label='ann (area = {:.3f})'.format(auc_ann))\n",
        "plt.plot(fpr_svm, tpr_svm, label='svm (area = {:.3f})'.format(auc_svm))\n",
        "plt.xlabel('False positive rate')\n",
        "plt.ylabel('True positive rate')\n",
        "plt.title('ROC curve (zoomed in at top left)')\n",
        "plt.legend(loc='best')\n",
        "plt.show()"
      ],
      "metadata": {
        "colab": {
          "base_uri": "https://localhost:8080/",
          "height": 608
        },
        "id": "MPbOTQQSOo1x",
        "outputId": "2192d3b5-b42f-466a-d8cc-dcc5ebd10a3c"
      },
      "execution_count": 65,
      "outputs": [
        {
          "output_type": "display_data",
          "data": {
            "text/plain": [
              "<Figure size 432x288 with 1 Axes>"
            ],
            "image/png": "[encoded data removed]"
          },
          "metadata": {
            "needs_background": "light"
          }
        },
        {
          "output_type": "stream",
          "name": "stdout",
          "text": [
            "\n",
            "\n"
          ]
        },
        {
          "output_type": "display_data",
          "data": {
            "text/plain": [
              "<Figure size 432x288 with 1 Axes>"
            ],
            "image/png": "[encoded data removed]"
          },
          "metadata": {
            "needs_background": "light"
          }
        }
      ]
    }
  ]
}